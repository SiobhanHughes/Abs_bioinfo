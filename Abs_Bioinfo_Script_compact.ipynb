{
 "cells": [
  {
   "cell_type": "code",
   "execution_count": null,
   "metadata": {
    "collapsed": true
   },
   "outputs": [],
   "source": [
    "# Python Script to compare libraries of Antibody DNA sequences to PG9 VDJ wild type\n",
    "# Convert to amino acid sequence to look for enrichment of mutations in libraries (1 - 4) \n",
    "# compared to control library"
   ]
  },
  {
   "cell_type": "code",
   "execution_count": 1,
   "metadata": {
    "collapsed": false
   },
   "outputs": [
    {
     "name": "stdout",
     "output_type": "stream",
     "text": [
      "CAGCGATTAGTGGAGTCTGGGGGAGGCGTGGTCCAGCCTGGGTCGTCCCTGAGACTCTCCTGTGCAGCGTCCGGATTCGACTTCAGTAGACAAGGCATGCACTGGGTCCGCCAGGCTCCAGGCCAGGGGCTGGAGTGGGTGGCATTTATTAAATATGATGGAAGTGAGAAATATCATGCTGACTCCGTATGGGGCCGACTCAGCATCTCCAGAGACAATTCCAAGGATACGCTTTATCTCCAAATGAATAGCCTGAGAGTCGAGGACACGGCTACATATTTTTGTGTGAGAGAGGCTGGTGGGCCCGACTACCGTAATGGGTACAACTATTACGATTTCTATGATGGTTATTATAACTACCACTATATGGACGTCTGGGGCAAAGGGACCACGGTCACCGTCTCGAGC\n"
     ]
    }
   ],
   "source": [
    "# Extract PG9 DNA sequence (a string made up of the genetic code consisting of A, T, C, G)\n",
    "\n",
    "with open(\"source_sequence.fasta.txt\", \"r\") as source:\n",
    "    for line in source:\n",
    "        if not line.startswith('>'):\n",
    "            PG9_seq = line.strip()\n",
    "            \n",
    "print(PG9_seq)"
   ]
  },
  {
   "cell_type": "code",
   "execution_count": 2,
   "metadata": {
    "collapsed": false
   },
   "outputs": [
    {
     "name": "stdout",
     "output_type": "stream",
     "text": [
      "Total number of sequences in file: 100000\n"
     ]
    }
   ],
   "source": [
    "# extract DNA sequences from control or mutated libraries - FASTA files (each DNA sequence assigned a fasta name in the library)\n",
    "\n",
    "# create a dictionary with fasta names as keys and DNA sequences as values\n",
    "\n",
    "keys = []\n",
    "values = []\n",
    "\n",
    "# loop through library and extract fasta names as keys for dictionary and then the DNA sequences as the values\n",
    "\n",
    "with open(\"library_2.fasta.txt\", \"r\") as lib:\n",
    "    for line in lib:\n",
    "        if line.startswith('>'):\n",
    "            keys.append(line.strip().lstrip(\">\"))\n",
    "        else:\n",
    "            values.append(line.strip())\n",
    "\n",
    "DNA_lib = dict(zip(keys, values)) # library in dictionary format with fasta names as keys and sequences as values\n",
    "\n",
    "print(\"Total number of sequences in file:\",len(keys)) #total number of DNA sequences (strings) in the file"
   ]
  },
  {
   "cell_type": "code",
   "execution_count": 3,
   "metadata": {
    "collapsed": false
   },
   "outputs": [
    {
     "name": "stdout",
     "output_type": "stream",
     "text": [
      "{'TTT': 'F', 'TTC': 'F', 'TTA': 'L', 'TTG': 'L', 'TCT': 'S', 'TCC': 'S', 'TCA': 'S', 'TCG': 'S', 'TAT': 'Y', 'TAC': 'Y', 'TAA': '*', 'TAG': '*', 'TGT': 'C', 'TGC': 'C', 'TGA': '*', 'TGG': 'W', 'CTT': 'L', 'CTC': 'L', 'CTA': 'L', 'CTG': 'L', 'CCT': 'P', 'CCC': 'P', 'CCA': 'P', 'CCG': 'P', 'CAT': 'H', 'CAC': 'H', 'CAA': 'Q', 'CAG': 'Q', 'CGT': 'R', 'CGC': 'R', 'CGA': 'R', 'CGG': 'R', 'ATT': 'I', 'ATC': 'I', 'ATA': 'I', 'ATG': 'M', 'ACT': 'T', 'ACC': 'T', 'ACA': 'T', 'ACG': 'T', 'AAT': 'N', 'AAC': 'N', 'AAA': 'K', 'AAG': 'K', 'AGT': 'S', 'AGC': 'S', 'AGA': 'R', 'AGG': 'R', 'GTT': 'V', 'GTC': 'V', 'GTA': 'V', 'GTG': 'V', 'GCT': 'A', 'GCC': 'A', 'GCA': 'A', 'GCG': 'A', 'GAT': 'D', 'GAC': 'D', 'GAA': 'E', 'GAG': 'E', 'GGT': 'G', 'GGC': 'G', 'GGA': 'G', 'GGG': 'G'}\n"
     ]
    }
   ],
   "source": [
    "# create DNA codon:amino acid dictionary (codons (triplet DNA code) as keys and single amino acid letter as the value in the dictionary)\n",
    "# single amino acid code (a letter) is obtained from the triplet DNA code - converting one string to another\n",
    "# * indicates a stop codon to end protein synthesis\n",
    "\n",
    "bases = ['T', 'C', 'A', 'G']\n",
    "codons = [a+b+c for a in bases for b in bases for c in bases] #creat list of DNA codons\n",
    "amino_acids = 'FFLLSSSSYY**CC*WLLLLPPPPHHQQRRRRIIIMTTTTNNKKSSRRVVVVAAAADDEEGGGG'  \n",
    "codon_table = dict(zip(codons, amino_acids))\n",
    "\n",
    "# How codon loop works:\n",
    "# first loop - a and b remain constant (T) and c changes: TTT, TTC, TTA, TTG\n",
    "# second loop - a is T, b is C and c changes: TCT TCC TCA TCG\n",
    "\n",
    "print(codon_table)"
   ]
  },
  {
   "cell_type": "code",
   "execution_count": 4,
   "metadata": {
    "collapsed": false
   },
   "outputs": [],
   "source": [
    "# loop through dictionary containing many DNA sequences (100000 in a library)\n",
    "# compare DNA sequences to PG9 sequence and output mutated codons, translate to amino acids and get positions of the mutations\n",
    "# compare DNA sequences in library (strings) to PG9 sequence (also a string) as well as convert to amino acid sequence (another string)\n",
    "\n",
    "identifier = []  #store keys - unique identifier for each sequence in the library\n",
    "aa = []   #store amino acid (translate codon after moving through sequence every 3 nucleotides and compare to PG9)\n",
    "pos_aa = []  #store amino acid position\n",
    "\n",
    "\n",
    "for key, value in DNA_lib.items():  #loop through library of DNA sequences\n",
    "    for pos in range(0, len(value)+1, 3):  # move through DNA sequence (values) every 3 nucleotides (codons)\n",
    "        if value[pos:pos+3] != PG9_seq[pos:pos+3]:\n",
    "            identifier.append(key)\n",
    "            aa.append(codon_table[value[pos:pos+3]]) #translate DNA codon to amino acid\n",
    "            pos_aa.append((pos+3)//3) # get amino acid position\n",
    "            \n",
    "aa_mut = dict(zip(identifier, aa))  #keys (fasta file name) with corresponding mutated amino acid\n",
    "pos_mut = dict(zip(identifier, pos_aa))#same keys as above with corresponding amino acid position"
   ]
  },
  {
   "cell_type": "code",
   "execution_count": 5,
   "metadata": {
    "collapsed": false
   },
   "outputs": [
    {
     "name": "stdout",
     "output_type": "stream",
     "text": [
      "Amino acid positions at which mutations occur: [79, 78, 10, 55, 128, 28, 112, 94, 13, 76]\n",
      "Total number of positions mutated in every sequence: 10\n"
     ]
    }
   ],
   "source": [
    "# Determine the 10 mutated amino acid positions when compared to the wild type PG9 amino acid sequence - \n",
    "# Count the number of times each mutated position occurs - \n",
    "# output is (position, number of sequences with a mutation at that position)\n",
    "\n",
    "from collections import Counter\n",
    "\n",
    "unique = Counter(pos_aa)\n",
    "\n",
    "# function to output a list of positions mutated - unique\n",
    "\n",
    "track= list(unique.keys())\n",
    "\n",
    "print(\"Amino acid positions at which mutations occur:\",track)\n",
    "print(\"Total number of positions mutated in every sequence:\",len(track))"
   ]
  },
  {
   "cell_type": "code",
   "execution_count": 6,
   "metadata": {
    "collapsed": false
   },
   "outputs": [
    {
     "name": "stdout",
     "output_type": "stream",
     "text": [
      "{79: [], 78: [], 10: [], 55: [], 128: [], 28: [], 112: [], 94: [], 13: [], 76: []}\n"
     ]
    }
   ],
   "source": [
    "# generate multiple empty lists using the position number as the key - \n",
    "# to append keys (identifier for each sequence) sorted by position of mutation\n",
    "\n",
    "pos_keys_lists = {}\n",
    "\n",
    "for i in range(len(track)):\n",
    "    pos_keys_lists[track[i]] = []\n",
    "    \n",
    "    \n",
    "print (pos_keys_lists)"
   ]
  },
  {
   "cell_type": "code",
   "execution_count": 7,
   "metadata": {
    "collapsed": false
   },
   "outputs": [],
   "source": [
    "# extract key/identifier for each mutated position and store in pos_keys_lists dictionary\n",
    "# store all keys/identifier names corresponding to a particular position where position is the key \n",
    "# and keys (values) are stored as a list\n",
    "\n",
    "for x in track:\n",
    "    for key, value in pos_mut.items(): #dictionary of fasta file names (keys) with associated amino acid positions\n",
    "        if pos_mut[key] == x:              #if value (amino acid position) = position from track (x)\n",
    "            pos_keys_lists[x].append(key)  #save fasta file name (key) in list with position as key \n"
   ]
  },
  {
   "cell_type": "code",
   "execution_count": 8,
   "metadata": {
    "collapsed": false
   },
   "outputs": [],
   "source": [
    "# generate multiple empty lists using position number as key - \n",
    "# store mutated amino acids for that position\n",
    "\n",
    "aa_lists = {}\n",
    "\n",
    "for i in range(len(track)):\n",
    "    aa_lists[track[i]] = []\n"
   ]
  },
  {
   "cell_type": "code",
   "execution_count": 9,
   "metadata": {
    "collapsed": false
   },
   "outputs": [],
   "source": [
    "# using keys extracted according to position, now grab all the mutated amino acids for that position\n",
    "\n",
    "for x in track:\n",
    "    for key, value in aa_mut.items(): #dict of fasta file names/keys with corresponding amino acid\n",
    "        if key in pos_keys_lists[x]:        #if fasta file name (key) in list corresponding to position key (x)\n",
    "            aa_lists[x].append(aa_mut[key]) #grab the values (mutated amino acid) into list corresponding to position key (x)\n"
   ]
  },
  {
   "cell_type": "code",
   "execution_count": 10,
   "metadata": {
    "collapsed": false
   },
   "outputs": [],
   "source": [
    "# function to get amino acid frequency as a percentage\n",
    "\n",
    "amino_acid_list = ['F', 'L', 'S', 'Y', 'C', 'W', 'P', 'H', 'Q', 'R', 'I', 'M', 'T', 'N', 'K', 'V', 'A', 'D', 'E', 'G']\n",
    "\n",
    "def freq_aa100(aa):\n",
    "    aa_freq100 = {} # generate dictionary with amnio acids as key to keep count of each amino acid\n",
    "    for i in range(len(amino_acid_list)):\n",
    "        aa_freq100[amino_acid_list[i]] = []\n",
    "        \n",
    "    for x in amino_acid_list:\n",
    "        count = 0.0\n",
    "        freq100 = 0.0\n",
    "        for y in aa:\n",
    "            total = len(aa)  #length of the list, that is, total number of mutated amino acids at that position\n",
    "            if y == x:\n",
    "                count += 1.0\n",
    "                freq100 = \"%.4f%%\" % (100 * (count/total))\n",
    "        aa_freq100[x].append(freq100)\n",
    "    return aa_freq100"
   ]
  },
  {
   "cell_type": "code",
   "execution_count": 11,
   "metadata": {
    "collapsed": false
   },
   "outputs": [
    {
     "name": "stdout",
     "output_type": "stream",
     "text": [
      "Amino acid frequencies at each position:\n",
      "Position 79\n",
      "[{'F': ['3.3246%'], 'L': ['9.9838%'], 'S': ['9.9939%'], 'Y': ['1.5764%'], 'C': ['3.5570%'], 'W': ['1.4652%'], 'P': ['6.5986%'], 'H': ['3.2842%'], 'Q': ['3.4256%'], 'R': ['9.8323%'], 'I': ['5.4264%'], 'M': ['1.6067%'], 'T': ['6.5077%'], 'N': ['3.3852%'], 'K': ['3.2741%'], 'V': ['6.6593%'], 'A': ['6.6390%'], 'D': ['3.1629%'], 'E': ['3.3549%'], 'G': ['6.9422%']}]\n",
      " \n",
      "Position 78\n",
      "[{'F': ['3.1904%'], 'L': ['7.8413%'], 'S': ['9.9026%'], 'Y': ['3.3976%'], 'C': ['3.6462%'], 'W': ['1.6988%'], 'P': ['6.8676%'], 'H': ['3.7497%'], 'Q': ['3.1075%'], 'R': ['9.5712%'], 'I': ['4.8892%'], 'M': ['1.8127%'], 'T': ['7.0851%'], 'N': ['3.4079%'], 'K': ['3.2733%'], 'V': ['6.4533%'], 'A': ['6.3290%'], 'D': ['3.1386%'], 'E': ['3.6565%'], 'G': ['6.9816%']}]\n",
      " \n",
      "Position 10\n",
      "[{'F': ['3.3133%'], 'L': ['10.3715%'], 'S': ['9.6888%'], 'Y': ['3.3936%'], 'C': ['3.2430%'], 'W': ['1.8273%'], 'P': ['6.4960%'], 'H': ['3.3835%'], 'Q': ['3.3133%'], 'R': ['9.7490%'], 'I': ['4.9699%'], 'M': ['1.6767%'], 'T': ['6.4458%'], 'N': ['3.3434%'], 'K': ['3.4839%'], 'V': ['5.4518%'], 'A': ['6.7771%'], 'D': ['3.1225%'], 'E': ['3.3233%'], 'G': ['6.6265%']}]\n",
      " \n",
      "Position 55\n",
      "[{'F': ['1.3944%'], 'L': ['3.3079%'], 'S': ['3.0941%'], 'Y': ['64.8346%'], 'C': ['1.3435%'], 'W': ['0.5903%'], 'P': ['2.4936%'], 'H': ['1.2621%'], 'Q': ['1.0789%'], 'R': ['3.6641%'], 'I': ['1.7710%'], 'M': ['0.5903%'], 'T': ['2.3511%'], 'N': ['1.3232%'], 'K': ['1.1807%'], 'V': ['2.5242%'], 'A': ['2.5038%'], 'D': ['1.2621%'], 'E': ['1.1501%'], 'G': ['2.2799%']}]\n",
      " \n",
      "Position 128\n",
      "[{'F': ['3.6062%'], 'L': ['10.1557%'], 'S': ['9.5229%'], 'Y': ['3.2848%'], 'C': ['3.3752%'], 'W': ['1.7077%'], 'P': ['6.8307%'], 'H': ['3.4154%'], 'Q': ['3.4355%'], 'R': ['10.2863%'], 'I': ['4.7614%'], 'M': ['1.5570%'], 'T': ['6.3285%'], 'N': ['3.2848%'], 'K': ['1.5570%'], 'V': ['6.9111%'], 'A': ['6.4892%'], 'D': ['3.5259%'], 'E': ['3.2747%'], 'G': ['6.6901%']}]\n",
      " \n",
      "Position 28\n",
      "[{'F': ['1.7352%'], 'L': ['9.8602%'], 'S': ['9.9112%'], 'Y': ['3.3378%'], 'C': ['3.4909%'], 'W': ['1.5821%'], 'P': ['6.4612%'], 'H': ['3.4194%'], 'Q': ['2.8478%'], 'R': ['10.0745%'], 'I': ['5.2363%'], 'M': ['1.7250%'], 'T': ['6.5428%'], 'N': ['3.0826%'], 'K': ['3.4398%'], 'V': ['6.6959%'], 'A': ['7.0940%'], 'D': ['3.3275%'], 'E': ['3.4194%'], 'G': ['6.7163%']}]\n",
      " \n",
      "Position 112\n",
      "[{'F': ['3.3367%'], 'L': ['9.7050%'], 'S': ['10.2543%'], 'Y': ['3.2553%'], 'C': ['3.4690%'], 'W': ['1.5768%'], 'P': ['6.3377%'], 'H': ['3.0010%'], 'Q': ['3.5910%'], 'R': ['10.1322%'], 'I': ['4.8220%'], 'M': ['1.5565%'], 'T': ['6.6226%'], 'N': ['3.3774%'], 'K': ['3.3266%'], 'V': ['6.9074%'], 'A': ['6.7854%'], 'D': ['1.5768%'], 'E': ['3.1943%'], 'G': ['7.1719%']}]\n",
      " \n",
      "Position 94\n",
      "[{'F': ['1.5642%'], 'L': ['10.0356%'], 'S': ['9.6800%'], 'Y': ['3.6668%'], 'C': ['3.5856%'], 'W': ['1.7572%'], 'P': ['6.7242%'], 'H': ['3.3824%'], 'Q': ['3.2707%'], 'R': ['10.0559%'], 'I': ['5.0889%'], 'M': ['1.7572%'], 'T': ['6.8461%'], 'N': ['3.2504%'], 'K': ['3.3520%'], 'V': ['6.2976%'], 'A': ['6.1960%'], 'D': ['3.3012%'], 'E': ['3.1590%'], 'G': ['7.0289%']}]\n",
      " \n",
      "Position 13\n",
      "[{'F': ['3.5887%'], 'L': ['10.1915%'], 'S': ['10.0202%'], 'Y': ['3.1250%'], 'C': ['3.2964%'], 'W': ['1.6835%'], 'P': ['4.9093%'], 'H': ['3.3669%'], 'Q': ['3.1855%'], 'R': ['10.4234%'], 'I': ['4.7984%'], 'M': ['1.5827%'], 'T': ['6.7540%'], 'N': ['3.2964%'], 'K': ['3.3871%'], 'V': ['6.6633%'], 'A': ['6.5726%'], 'D': ['3.4778%'], 'E': ['3.2359%'], 'G': ['6.4415%']}]\n",
      " \n",
      "Position 76\n",
      "[{'F': ['3.4254%'], 'L': ['9.9704%'], 'S': ['9.8175%'], 'Y': ['3.2521%'], 'C': ['3.2113%'], 'W': ['1.7025%'], 'P': ['6.3513%'], 'H': ['3.3948%'], 'Q': ['3.2011%'], 'R': ['10.2763%'], 'I': ['5.3930%'], 'M': ['1.8249%'], 'T': ['6.8814%'], 'N': ['3.4866%'], 'K': ['3.3948%'], 'V': ['6.5144%'], 'A': ['6.3921%'], 'D': ['1.7841%'], 'E': ['3.0788%'], 'G': ['6.6470%']}]\n",
      " \n"
     ]
    }
   ],
   "source": [
    "# get the frequency of amino acids at each position for control library - baseline frequencies, as a percentage. Then compare to mutated libraries\n",
    "\n",
    "\n",
    "aa_freq_lib100 = {} # generate dictionary with positions as key to store lists of amino acid total counts for each position\n",
    "\n",
    "for i in range(len(track)):\n",
    "    aa_freq_lib100[track[i]] = []\n",
    "\n",
    "\n",
    "for x in track:\n",
    "    for key, value in aa_lists.items():\n",
    "        if key == x:\n",
    "            aa_freq_lib100[x].append(freq_aa100(value))\n",
    "            \n",
    "\n",
    "print (\"Amino acid frequencies at each position:\")            \n",
    "for x in track:\n",
    "    print(\"Position\", x)\n",
    "    print(aa_freq_lib100[x])\n",
    "    print(\" \")"
   ]
  },
  {
   "cell_type": "code",
   "execution_count": null,
   "metadata": {
    "collapsed": true
   },
   "outputs": [],
   "source": []
  }
 ],
 "metadata": {
  "kernelspec": {
   "display_name": "Python 3",
   "language": "python",
   "name": "python3"
  },
  "language_info": {
   "codemirror_mode": {
    "name": "ipython",
    "version": 3
   },
   "file_extension": ".py",
   "mimetype": "text/x-python",
   "name": "python",
   "nbconvert_exporter": "python",
   "pygments_lexer": "ipython3",
   "version": "3.6.0"
  }
 },
 "nbformat": 4,
 "nbformat_minor": 2
}
