{
 "cells": [
  {
   "cell_type": "code",
   "execution_count": null,
   "metadata": {
    "collapsed": true
   },
   "outputs": [],
   "source": [
    "# Python Script to compare libraries of Antibody DNA sequences to PG9 VDJ wild type\n",
    "# Convert to amino acid sequence to look to enrichment of mutations in libraries (1 - 4) \n",
    "# compared to control library"
   ]
  },
  {
   "cell_type": "code",
   "execution_count": 1,
   "metadata": {
    "collapsed": false
   },
   "outputs": [
    {
     "name": "stdout",
     "output_type": "stream",
     "text": [
      "CAGCGATTAGTGGAGTCTGGGGGAGGCGTGGTCCAGCCTGGGTCGTCCCTGAGACTCTCCTGTGCAGCGTCCGGATTCGACTTCAGTAGACAAGGCATGCACTGGGTCCGCCAGGCTCCAGGCCAGGGGCTGGAGTGGGTGGCATTTATTAAATATGATGGAAGTGAGAAATATCATGCTGACTCCGTATGGGGCCGACTCAGCATCTCCAGAGACAATTCCAAGGATACGCTTTATCTCCAAATGAATAGCCTGAGAGTCGAGGACACGGCTACATATTTTTGTGTGAGAGAGGCTGGTGGGCCCGACTACCGTAATGGGTACAACTATTACGATTTCTATGATGGTTATTATAACTACCACTATATGGACGTCTGGGGCAAAGGGACCACGGTCACCGTCTCGAGC\n"
     ]
    }
   ],
   "source": [
    "# Extract PG9 DNA sequence (a string made up of the genetic code consisting of A, T, C, G)\n",
    "\n",
    "with open(\"source_sequence.fasta.txt\", \"r\") as source:\n",
    "    for line in source:\n",
    "        if not line.startswith('>'):\n",
    "            PG9_seq = line.strip()\n",
    "            \n",
    "print(PG9_seq)"
   ]
  },
  {
   "cell_type": "code",
   "execution_count": 2,
   "metadata": {
    "collapsed": false
   },
   "outputs": [
    {
     "name": "stdout",
     "output_type": "stream",
     "text": [
      "Total number of sequences in file 100000\n"
     ]
    }
   ],
   "source": [
    "# extract DNA sequences from control or mutated libraries - FASTA files (each DNA sequence assigned a fasta name in the library)\n",
    "\n",
    "# create a dictionary with fasta names as keys and DNA sequences as values\n",
    "\n",
    "keys = []\n",
    "values = []\n",
    "\n",
    "# loop through library and extract fasta names as keys for dictionary and then the DNA sequences as the values\n",
    "\n",
    "with open(\"control_library.fasta.txt\", \"r\") as lib:\n",
    "    for line in lib:\n",
    "        if line.startswith('>'):\n",
    "            keys.append(line.strip().lstrip(\">\"))\n",
    "        else:\n",
    "            values.append(line.strip())\n",
    "\n",
    "DNA_lib = dict(zip(keys, values)) # library in dictionary format with fasta names as keys and sequences as values\n",
    "\n",
    "print (\"Total number of sequences in file\",len(keys)) #total number of DNA sequences (strings) in the file"
   ]
  },
  {
   "cell_type": "code",
   "execution_count": 3,
   "metadata": {
    "collapsed": false
   },
   "outputs": [
    {
     "name": "stdout",
     "output_type": "stream",
     "text": [
      "{'TTT': 'F', 'TTC': 'F', 'TTA': 'L', 'TTG': 'L', 'TCT': 'S', 'TCC': 'S', 'TCA': 'S', 'TCG': 'S', 'TAT': 'Y', 'TAC': 'Y', 'TAA': '*', 'TAG': '*', 'TGT': 'C', 'TGC': 'C', 'TGA': '*', 'TGG': 'W', 'CTT': 'L', 'CTC': 'L', 'CTA': 'L', 'CTG': 'L', 'CCT': 'P', 'CCC': 'P', 'CCA': 'P', 'CCG': 'P', 'CAT': 'H', 'CAC': 'H', 'CAA': 'Q', 'CAG': 'Q', 'CGT': 'R', 'CGC': 'R', 'CGA': 'R', 'CGG': 'R', 'ATT': 'I', 'ATC': 'I', 'ATA': 'I', 'ATG': 'M', 'ACT': 'T', 'ACC': 'T', 'ACA': 'T', 'ACG': 'T', 'AAT': 'N', 'AAC': 'N', 'AAA': 'K', 'AAG': 'K', 'AGT': 'S', 'AGC': 'S', 'AGA': 'R', 'AGG': 'R', 'GTT': 'V', 'GTC': 'V', 'GTA': 'V', 'GTG': 'V', 'GCT': 'A', 'GCC': 'A', 'GCA': 'A', 'GCG': 'A', 'GAT': 'D', 'GAC': 'D', 'GAA': 'E', 'GAG': 'E', 'GGT': 'G', 'GGC': 'G', 'GGA': 'G', 'GGG': 'G'}\n"
     ]
    }
   ],
   "source": [
    "# create codon:amino acid dictionary (codons (triplet DNA code) as keys and single amino acid letter as the value in the dictionary)\n",
    "# single amino acid code (a letter) is obtained from the triplet DNA code - converting one string to another\n",
    "\n",
    "bases = ['T', 'C', 'A', 'G']\n",
    "codons = [a+b+c for a in bases for b in bases for c in bases] #creat list of DNA codons\n",
    "amino_acids = 'FFLLSSSSYY**CC*WLLLLPPPPHHQQRRRRIIIMTTTTNNKKSSRRVVVVAAAADDEEGGGG'  #STOP = *\n",
    "codon_table = dict(zip(codons, amino_acids))\n",
    "\n",
    "# How codon loop works:\n",
    "# first loop - a and b remain constant (T) and c changes: TTT, TTC, TTA, TTG\n",
    "# second loop - a is T, b is C and c changes: TCT TCC TCA TCG\n",
    "\n",
    "print(codon_table)"
   ]
  },
  {
   "cell_type": "code",
   "execution_count": 4,
   "metadata": {
    "collapsed": false
   },
   "outputs": [],
   "source": [
    "# loop through dictionary containing many DNA sequences (100000 in a library)\n",
    "# compare DNA sequences to PG9 sequence and output mutated codons, translate to amino acids and get positions of the mutations\n",
    "# compare DNA sequences in library (strings) to PG9 sequence (also a string) as well as convert to amino acid sequence (another string)\n",
    "\n",
    "identifier = []  #store keys - unique identifier for each sequence in the library\n",
    "aa = []   #store amino acid (translate codon after moving through sequence every 3 nucleotides and compare to PG9)\n",
    "pos_aa = []  #store amino acid position\n",
    "\n",
    "\n",
    "for key, value in DNA_lib.items():  #loop through library of DNA sequences\n",
    "    for pos in range(0, len(value)+1, 3):  # move through sequence (values) every 3 nucleotides (codons)\n",
    "        if value[pos:pos+3] != PG9_seq[pos:pos+3]:\n",
    "            identifier.append(key)\n",
    "            aa.append(codon_table[value[pos:pos+3]])\n",
    "            pos_aa.append((pos+3)//3)\n",
    "            \n",
    "aa_mut = dict(zip(identifier, aa))  #keys (fasta file name) with corresponding mutated amino acid\n",
    "pos_mut = dict(zip(identifier, pos_aa))#same keys as above with corresponding amino acid position"
   ]
  },
  {
   "cell_type": "code",
   "execution_count": 5,
   "metadata": {
    "collapsed": false
   },
   "outputs": [
    {
     "name": "stdout",
     "output_type": "stream",
     "text": [
      "Amino acid positions at which mutations occur: [94, 28, 112, 79, 76, 10, 13, 128, 55, 78]\n",
      "Total number of positions mutated in every sequence: 10\n"
     ]
    }
   ],
   "source": [
    "# Count the number of times each mutated position occurs - \n",
    "# output is (position, number of sequences with a mutation at that position)\n",
    "\n",
    "from collections import Counter\n",
    "\n",
    "unique = Counter(pos_aa)\n",
    "\n",
    "# function to output a list of positions mutated - unique\n",
    "\n",
    "track= list(unique.keys())\n",
    "\n",
    "print(\"Amino acid positions at which mutations occur:\",track)\n",
    "print(\"Total number of positions mutated in every sequence:\",len(track))"
   ]
  },
  {
   "cell_type": "code",
   "execution_count": 6,
   "metadata": {
    "collapsed": false
   },
   "outputs": [
    {
     "name": "stdout",
     "output_type": "stream",
     "text": [
      "{94: [], 28: [], 112: [], 79: [], 76: [], 10: [], 13: [], 128: [], 55: [], 78: []}\n"
     ]
    }
   ],
   "source": [
    "# generate multiple empty lists using the position number as the key - \n",
    "# to append keys (identifier for each sequence) sorted by position of mutation\n",
    "\n",
    "pos_keys_lists = {}\n",
    "\n",
    "for i in range(len(track)):\n",
    "    pos_keys_lists[track[i]] = []\n",
    "    \n",
    "    \n",
    "print (pos_keys_lists)"
   ]
  },
  {
   "cell_type": "code",
   "execution_count": 7,
   "metadata": {
    "collapsed": false
   },
   "outputs": [],
   "source": [
    "# extract key/identifier for each mutated position and store in pos_keys_lists dictionary\n",
    "# store all keys/identifier names corresponding to a particular position where position is the key \n",
    "# and keys (values) are stored as a list\n",
    "\n",
    "for x in track:\n",
    "    for key, value in pos_mut.items(): #dictionary of fasta file names (keys) with associated amino acid positions\n",
    "        if pos_mut[key] == x:              #if value (amino acid position) = position from track (x)\n",
    "            pos_keys_lists[x].append(key)  #save fasta file name (key) in list with position as key \n"
   ]
  },
  {
   "cell_type": "code",
   "execution_count": 8,
   "metadata": {
    "collapsed": false
   },
   "outputs": [],
   "source": [
    "# generate multiple empty lists using position number as key - \n",
    "# store mutated amino acids for that position\n",
    "\n",
    "aa_lists = {}\n",
    "\n",
    "for i in range(len(track)):\n",
    "    aa_lists[track[i]] = []\n"
   ]
  },
  {
   "cell_type": "code",
   "execution_count": 9,
   "metadata": {
    "collapsed": false
   },
   "outputs": [],
   "source": [
    "# using keys extracted according to position, now grab all the mutated amino acids for that position\n",
    "\n",
    "for x in track:\n",
    "    for key, value in aa_mut.items(): #dict of fasta file names/keys with corresponding amino acid\n",
    "        if key in pos_keys_lists[x]:        #if fasta file name (key) in list corresponding to position key (x)\n",
    "            aa_lists[x].append(aa_mut[key]) #grab the values (mutated amino acid) into list corresponding to position key (x)\n"
   ]
  },
  {
   "cell_type": "code",
   "execution_count": 10,
   "metadata": {
    "collapsed": false
   },
   "outputs": [],
   "source": [
    "# function to get amino acid frequency as a percentage\n",
    "\n",
    "amino_acid_list = ['F', 'L', 'S', 'Y', 'C', 'W', 'P', 'H', 'Q', 'R', 'I', 'M', 'T', 'N', 'K', 'V', 'A', 'D', 'E', 'G']\n",
    "\n",
    "def freq_aa100(aa):\n",
    "    aa_freq100 = {} # generate dictionary with amnio acids as key to keep count of each amino acid\n",
    "    for i in range(len(amino_acid_list)):\n",
    "        aa_freq100[amino_acid_list[i]] = []\n",
    "        \n",
    "    for x in amino_acid_list:\n",
    "        count = 0.0\n",
    "        freq100 = 0.0\n",
    "        for y in aa:\n",
    "            total = len(aa)  #length of the list, that is, total number of mutated amino acids at that position\n",
    "            if y == x:\n",
    "                count += 1.0\n",
    "                freq100 = \"%.4f%%\" % (100 * (count/total))\n",
    "        aa_freq100[x].append(freq100)\n",
    "    return aa_freq100"
   ]
  },
  {
   "cell_type": "code",
   "execution_count": 11,
   "metadata": {
    "collapsed": false
   },
   "outputs": [
    {
     "name": "stdout",
     "output_type": "stream",
     "text": [
      "Amino acid frequencies at each position:\n",
      "Position 94\n",
      "[{'F': ['1.6984%'], 'L': ['10.2207%'], 'S': ['9.6817%'], 'Y': ['3.2238%'], 'C': ['3.2645%'], 'W': ['1.5255%'], 'P': ['6.7121%'], 'H': ['3.5696%'], 'Q': ['2.9391%'], 'R': ['9.8546%'], 'I': ['4.9934%'], 'M': ['1.8407%'], 'T': ['6.6409%'], 'N': ['3.3866%'], 'K': ['3.3255%'], 'V': ['6.8240%'], 'A': ['6.9968%'], 'D': ['3.1933%'], 'E': ['3.8137%'], 'G': ['6.2951%']}]\n",
      " \n",
      "Position 28\n",
      "[{'F': ['1.5598%'], 'L': ['9.9195%'], 'S': ['9.8583%'], 'Y': ['3.2623%'], 'C': ['3.0278%'], 'W': ['1.6617%'], 'P': ['6.9120%'], 'H': ['3.3133%'], 'Q': ['3.3846%'], 'R': ['9.4403%'], 'I': ['5.0770%'], 'M': ['1.5700%'], 'T': ['6.4838%'], 'N': ['3.5478%'], 'K': ['3.3235%'], 'V': ['6.3105%'], 'A': ['6.9222%'], 'D': ['3.5987%'], 'E': ['3.5783%'], 'G': ['7.2484%']}]\n",
      " \n",
      "Position 112\n",
      "[{'F': ['3.3087%'], 'L': ['10.3165%'], 'S': ['9.7719%'], 'Y': ['3.5245%'], 'C': ['3.7402%'], 'W': ['1.7160%'], 'P': ['6.2166%'], 'H': ['3.2470%'], 'Q': ['2.9696%'], 'R': ['9.8438%'], 'I': ['4.8603%'], 'M': ['2.0140%'], 'T': ['6.9770%'], 'N': ['3.2265%'], 'K': ['3.3189%'], 'V': ['6.6379%'], 'A': ['6.9153%'], 'D': ['1.5824%'], 'E': ['3.3292%'], 'G': ['6.4838%']}]\n",
      " \n",
      "Position 79\n",
      "[{'F': ['3.1484%'], 'L': ['9.3016%'], 'S': ['10.0913%'], 'Y': ['1.5486%'], 'C': ['3.2817%'], 'W': ['1.4665%'], 'P': ['7.0044%'], 'H': ['3.1279%'], 'Q': ['3.6201%'], 'R': ['9.7323%'], 'I': ['5.0354%'], 'M': ['1.7434%'], 'T': ['7.1480%'], 'N': ['3.1381%'], 'K': ['3.6201%'], 'V': ['6.6762%'], 'A': ['7.1685%'], 'D': ['3.5894%'], 'E': ['3.0664%'], 'G': ['6.4916%']}]\n",
      " \n",
      "Position 76\n",
      "[{'F': ['2.9875%'], 'L': ['9.9075%'], 'S': ['9.8364%'], 'Y': ['3.3025%'], 'C': ['3.3228%'], 'W': ['1.5344%'], 'P': ['6.9505%'], 'H': ['3.3127%'], 'Q': ['3.3330%'], 'R': ['10.0091%'], 'I': ['4.7861%'], 'M': ['1.8392%'], 'T': ['6.8184%'], 'N': ['3.4346%'], 'K': ['3.0688%'], 'V': ['7.4078%'], 'A': ['6.3815%'], 'D': ['1.6259%'], 'E': ['3.4854%'], 'G': ['6.6558%']}]\n",
      " \n",
      "Position 10\n",
      "[{'F': ['3.4387%'], 'L': ['9.6592%'], 'S': ['10.2751%'], 'Y': ['3.5003%'], 'C': ['3.3463%'], 'W': ['1.5808%'], 'P': ['6.1076%'], 'H': ['3.2950%'], 'Q': ['3.4695%'], 'R': ['9.9056%'], 'I': ['5.0708%'], 'M': ['1.4165%'], 'T': ['6.6516%'], 'N': ['3.2950%'], 'K': ['3.3463%'], 'V': ['5.2556%'], 'A': ['6.6003%'], 'D': ['3.8904%'], 'E': ['3.5516%'], 'G': ['6.3437%']}]\n",
      " \n",
      "Position 13\n",
      "[{'F': ['3.2400%'], 'L': ['9.7303%'], 'S': ['9.8329%'], 'Y': ['3.2810%'], 'C': ['3.3221%'], 'W': ['1.8866%'], 'P': ['5.3009%'], 'H': ['3.4451%'], 'Q': ['3.0452%'], 'R': ['9.6893%'], 'I': ['5.1574%'], 'M': ['1.9686%'], 'T': ['6.4083%'], 'N': ['3.6502%'], 'K': ['3.3118%'], 'V': ['6.9825%'], 'A': ['6.5006%'], 'D': ['3.2810%'], 'E': ['3.4861%'], 'G': ['6.4801%']}]\n",
      " \n",
      "Position 128\n",
      "[{'F': ['3.4874%'], 'L': ['10.2814%'], 'S': ['9.4372%'], 'Y': ['3.3266%'], 'C': ['3.0754%'], 'W': ['1.6884%'], 'P': ['6.5729%'], 'H': ['3.6382%'], 'Q': ['3.3367%'], 'R': ['9.8191%'], 'I': ['5.4372%'], 'M': ['1.6080%'], 'T': ['7.1558%'], 'N': ['3.4171%'], 'K': ['1.6985%'], 'V': ['6.4523%'], 'A': ['6.5729%'], 'D': ['3.3568%'], 'E': ['3.1960%'], 'G': ['6.4422%']}]\n",
      " \n",
      "Position 55\n",
      "[{'F': ['3.2053%'], 'L': ['9.7877%'], 'S': ['8.1193%'], 'Y': ['3.3873%'], 'C': ['3.4580%'], 'W': ['1.6380%'], 'P': ['6.6127%'], 'H': ['3.2457%'], 'Q': ['3.4479%'], 'R': ['10.4044%'], 'I': ['5.0961%'], 'M': ['1.9211%'], 'T': ['6.8049%'], 'N': ['3.3165%'], 'K': ['3.5693%'], 'V': ['6.2993%'], 'A': ['6.8352%'], 'D': ['3.4783%'], 'E': ['3.0536%'], 'G': ['6.3195%']}]\n",
      " \n",
      "Position 78\n",
      "[{'F': ['3.4682%'], 'L': ['8.3117%'], 'S': ['9.6472%'], 'Y': ['3.3586%'], 'C': ['3.1094%'], 'W': ['1.7939%'], 'P': ['6.6075%'], 'H': ['3.1094%'], 'Q': ['3.5978%'], 'R': ['10.2452%'], 'I': ['4.8236%'], 'M': ['1.6444%'], 'T': ['6.9265%'], 'N': ['3.4283%'], 'K': ['3.2789%'], 'V': ['6.3384%'], 'A': ['6.6474%'], 'D': ['3.4084%'], 'E': ['2.9201%'], 'G': ['7.3351%']}]\n",
      " \n"
     ]
    }
   ],
   "source": [
    "# get the frequency of amino acids at each position for control library - baseline frequencies, as a percentage. Then compare to mutated libraries\n",
    "\n",
    "\n",
    "aa_freq_lib100 = {} # generate dictionary with positions as key to store lists of amino acid total counts for each position\n",
    "\n",
    "for i in range(len(track)):\n",
    "    aa_freq_lib100[track[i]] = []\n",
    "\n",
    "\n",
    "for x in track:\n",
    "    for key, value in aa_lists.items():\n",
    "        if key == x:\n",
    "            aa_freq_lib100[x].append(freq_aa100(value))\n",
    "            \n",
    "\n",
    "print (\"Amino acid frequencies at each position:\")            \n",
    "for x in track:\n",
    "    print(\"Position\", x)\n",
    "    print(aa_freq_lib100[x])\n",
    "    print(\" \")"
   ]
  },
  {
   "cell_type": "code",
   "execution_count": null,
   "metadata": {
    "collapsed": true
   },
   "outputs": [],
   "source": []
  }
 ],
 "metadata": {
  "kernelspec": {
   "display_name": "Python 3",
   "language": "python",
   "name": "python3"
  },
  "language_info": {
   "codemirror_mode": {
    "name": "ipython",
    "version": 3
   },
   "file_extension": ".py",
   "mimetype": "text/x-python",
   "name": "python",
   "nbconvert_exporter": "python",
   "pygments_lexer": "ipython3",
   "version": "3.6.0"
  }
 },
 "nbformat": 4,
 "nbformat_minor": 2
}
