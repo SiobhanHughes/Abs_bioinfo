{
 "cells": [
  {
   "cell_type": "code",
   "execution_count": 1,
   "metadata": {
    "collapsed": true
   },
   "outputs": [],
   "source": [
    "# Python Script to compare libraries of Antibody DNA sequences to PG9 VDJ wild type\n",
    "# Convert to amino acid sequence to look to enrichment of mutations in libraries (1 - 4) \n",
    "# compared to control library"
   ]
  },
  {
   "cell_type": "code",
   "execution_count": 2,
   "metadata": {
    "collapsed": false
   },
   "outputs": [
    {
     "name": "stdout",
     "output_type": "stream",
     "text": [
      "CAGCGATTAGTGGAGTCTGGGGGAGGCGTGGTCCAGCCTGGGTCGTCCCTGAGACTCTCCTGTGCAGCGTCCGGATTCGACTTCAGTAGACAAGGCATGCACTGGGTCCGCCAGGCTCCAGGCCAGGGGCTGGAGTGGGTGGCATTTATTAAATATGATGGAAGTGAGAAATATCATGCTGACTCCGTATGGGGCCGACTCAGCATCTCCAGAGACAATTCCAAGGATACGCTTTATCTCCAAATGAATAGCCTGAGAGTCGAGGACACGGCTACATATTTTTGTGTGAGAGAGGCTGGTGGGCCCGACTACCGTAATGGGTACAACTATTACGATTTCTATGATGGTTATTATAACTACCACTATATGGACGTCTGGGGCAAAGGGACCACGGTCACCGTCTCGAGC\n"
     ]
    }
   ],
   "source": [
    "# Etract PG9 DNA sequence (a string made up of the geneteic code consisting of A, T, C, G)\n",
    "\n",
    "with open(\"source_sequence.fasta.txt\", \"r\") as source:\n",
    "    for line in source:\n",
    "        if not line.startswith('>'):\n",
    "            PG9_seq = line.strip()\n",
    "            \n",
    "print(PG9_seq)"
   ]
  },
  {
   "cell_type": "code",
   "execution_count": 4,
   "metadata": {
    "collapsed": false
   },
   "outputs": [
    {
     "name": "stdout",
     "output_type": "stream",
     "text": [
      "Example Sequence: CAGCGATTAGTGGAGTCTGGGGGAGGCGTGGTCCAGCCTGGGTCGTCCCTGAGACTCTCCTGTGCAGCGTCCGGATTCGACTTCAGTAGACAAGGCATGCACTGGGTCCGCCAGGCTCCAGGCCAGGGGCTGGAGTGGGTGGCATTTATTAAATATGATGGAAGTGAGAAATATCATGCTGACTCCGTATGGGGCCGACTCAGCATCTCCAGAGACAATTCCAAGGATACGCTTTATCTCCAAATGAATAGCCTGAGAGTCGAGGACACGGCTACATATGTATGTGTGAGAGAGGCTGGTGGGCCCGACTACCGTAATGGGTACAACTATTACGATTTCTATGATGGTTATTATAACTACCACTATATGGACGTCTGGGGCAAAGGGACCACGGTCACCGTCTCGAGC\n",
      "Total number of sequences in file 100000\n"
     ]
    }
   ],
   "source": [
    "# extract DNA sequences from control or mutated libraries - FASTA files (each DNA sequence assigned a fasta name in the library)\n",
    "\n",
    "# create a dictionary with fasta names as keys and DNA sequences as values\n",
    "\n",
    "keys = []\n",
    "values = []\n",
    "\n",
    "# loop through library and extract fasta names as keys for dictionary and then the DNA sequences as the values\n",
    "\n",
    "with open(\"control_library.fasta.txt\", \"r\") as lib:\n",
    "    for line in lib:\n",
    "        if line.startswith('>'):\n",
    "            keys.append(line.strip().lstrip(\">\"))\n",
    "        else:\n",
    "            values.append(line.strip())\n",
    "\n",
    "DNA_lib = dict(zip(keys, values)) # library in dictionary format with fasta names as keys and sequences as values\n",
    "\n",
    "print (\"Example Sequence:\", DNA_lib['74a74b4e-e0c6-4fb7-bf10-cf36fa80638c'])\n",
    "print (\"Total number of sequences in file\",len(keys)) #total number of DNA sequences (strings) in the file"
   ]
  },
  {
   "cell_type": "code",
   "execution_count": 7,
   "metadata": {
    "collapsed": false
   },
   "outputs": [
    {
     "name": "stdout",
     "output_type": "stream",
     "text": [
      "{'TTT': 'F', 'TTC': 'F', 'TTA': 'L', 'TTG': 'L', 'TCT': 'S', 'TCC': 'S', 'TCA': 'S', 'TCG': 'S', 'TAT': 'Y', 'TAC': 'Y', 'TAA': '*', 'TAG': '*', 'TGT': 'C', 'TGC': 'C', 'TGA': '*', 'TGG': 'W', 'CTT': 'L', 'CTC': 'L', 'CTA': 'L', 'CTG': 'L', 'CCT': 'P', 'CCC': 'P', 'CCA': 'P', 'CCG': 'P', 'CAT': 'H', 'CAC': 'H', 'CAA': 'Q', 'CAG': 'Q', 'CGT': 'R', 'CGC': 'R', 'CGA': 'R', 'CGG': 'R', 'ATT': 'I', 'ATC': 'I', 'ATA': 'I', 'ATG': 'M', 'ACT': 'T', 'ACC': 'T', 'ACA': 'T', 'ACG': 'T', 'AAT': 'N', 'AAC': 'N', 'AAA': 'K', 'AAG': 'K', 'AGT': 'S', 'AGC': 'S', 'AGA': 'R', 'AGG': 'R', 'GTT': 'V', 'GTC': 'V', 'GTA': 'V', 'GTG': 'V', 'GCT': 'A', 'GCC': 'A', 'GCA': 'A', 'GCG': 'A', 'GAT': 'D', 'GAC': 'D', 'GAA': 'E', 'GAG': 'E', 'GGT': 'G', 'GGC': 'G', 'GGA': 'G', 'GGG': 'G'}\n"
     ]
    }
   ],
   "source": [
    "# create codon:amino acid dictionary (codons (triplet DNA code) as keys and single amino acid letter as the value in the dictionary)\n",
    "# single amino acid code (a letter) is obtained from the triplet DNA code - converting one string to another\n",
    "\n",
    "bases = ['T', 'C', 'A', 'G']\n",
    "codons = [a+b+c for a in bases for b in bases for c in bases] #creat list of DNA codons\n",
    "amino_acids = 'FFLLSSSSYY**CC*WLLLLPPPPHHQQRRRRIIIMTTTTNNKKSSRRVVVVAAAADDEEGGGG'  #STOP = *\n",
    "codon_table = dict(zip(codons, amino_acids))\n",
    "\n",
    "# How codon loop works:\n",
    "# first loop - a and b remain constant (T) and c changes: TTT, TTC, TTA, TTG\n",
    "# second loop - a is T, b is C and c changes: TCT TCC TCA TCG\n",
    "\n",
    "print(codon_table)"
   ]
  },
  {
   "cell_type": "code",
   "execution_count": 8,
   "metadata": {
    "collapsed": false
   },
   "outputs": [
    {
     "name": "stdout",
     "output_type": "stream",
     "text": [
      "M\n"
     ]
    }
   ],
   "source": [
    "# function to convert codon to single letter amino acid code\n",
    "\n",
    "def translate(codon):\n",
    "    for key, value in codon_table.items():\n",
    "        if codon == key:\n",
    "            return value\n",
    "    \n",
    "print(translate('ATG')) #test function"
   ]
  },
  {
   "cell_type": "code",
   "execution_count": 15,
   "metadata": {
    "collapsed": false
   },
   "outputs": [],
   "source": [
    "# loop through dictionary containing many DNA sequences (100000 in a library)\n",
    "# compare DNA sequences to PG9 sequence and output mutated codons, translate to amino acids and get positions of the mutations\n",
    "# compare DNA sequences in library (strings) to PG9 sequence (also a string) as well as convert to amino acid sequence (another string)\n",
    "\n",
    "key_fasta = []  #store keys - fasta names\n",
    "aa = []   #store amino acid (translate codon after moving through sequence every 3 nucleotides and compare to PG9)\n",
    "pos_aa = []  #store amino acid position\n",
    "\n",
    "\n",
    "for key, value in DNA_lib.items():  #loop through library of DNA sequences\n",
    "    for pos in range(0, len(value)+1, 3):  # move through sequence (values) every 3 nucleotides (codons)\n",
    "        if value[pos:pos+3] != PG9_seq[pos:pos+3]:\n",
    "            key_fasta.append(key)\n",
    "            aa.append(translate(value[pos:pos+3]))\n",
    "            pos_aa.append((pos+3)/3)\n",
    "            \n",
    "aa_mut = dict(zip(key_fasta, aa))  #keys (fasta file name) with corresponding mutated amino acid\n",
    "pos_mut = dict(zip(key_fasta, pos_aa))#same keys as above with corresponding amino acid position"
   ]
  },
  {
   "cell_type": "code",
   "execution_count": 17,
   "metadata": {
    "collapsed": false
   },
   "outputs": [
    {
     "name": "stdout",
     "output_type": "stream",
     "text": [
      "Amino acid position with number of sequences mutated at that position:\n",
      "dict_items([(94.0, 9833), (28.0, 9809), (112.0, 9732), (79.0, 9751), (76.0, 9841), (10.0, 9742), (13.0, 9753), (128.0, 9950), (55.0, 9890), (78.0, 10034)])\n",
      " \n",
      "Total number of sequences in library: 100000\n",
      "Total number of sequences with mutations: 98335\n",
      "Number of unmutated sequences: 1665\n"
     ]
    }
   ],
   "source": [
    "# Count the number of times each mutated postion occurs - \n",
    "# output is (position, number of sequences with a mutation at that position)\n",
    "\n",
    "from collections import Counter\n",
    "\n",
    "unique = Counter(pos_aa)\n",
    "print (\"Amino acid position with number of sequences mutated at that position:\")\n",
    "print (unique.items())\n",
    "\n",
    "print(\" \")\n",
    "print (\"Total number of sequences in library:\", len(keys))\n",
    "print (\"Total number of sequences with mutations:\", len(key_fasta))\n",
    "print (\"Number of unmutated sequences:\", len(keys)-len(key_fasta))"
   ]
  },
  {
   "cell_type": "code",
   "execution_count": 20,
   "metadata": {
    "collapsed": false
   },
   "outputs": [
    {
     "name": "stdout",
     "output_type": "stream",
     "text": [
      "Amino acid positions at which mutations occur: [94.0, 28.0, 112.0, 79.0, 76.0, 10.0, 13.0, 128.0, 55.0, 78.0]\n",
      "Total number of positions mutated in every sequence: 10\n"
     ]
    }
   ],
   "source": [
    "# function to output a list of positions mutated - unique\n",
    "\n",
    "def pos_mutated(pos_aa):\n",
    "    unique = []\n",
    "    for x in pos_aa:\n",
    "        if x not in unique:\n",
    "            unique.append(x)\n",
    "    return unique\n",
    "\n",
    "\n",
    "track = pos_mutated(pos_aa) #track the positions mutated\n",
    "print (\"Amino acid positions at which mutations occur:\",track)\n",
    "print (\"Total number of positions mutated in every sequence:\",len(track))"
   ]
  },
  {
   "cell_type": "code",
   "execution_count": 21,
   "metadata": {
    "collapsed": false
   },
   "outputs": [
    {
     "name": "stdout",
     "output_type": "stream",
     "text": [
      "{94.0: [], 28.0: [], 112.0: [], 79.0: [], 76.0: [], 10.0: [], 13.0: [], 128.0: [], 55.0: [], 78.0: []}\n"
     ]
    }
   ],
   "source": [
    "# generate multiple empty lists using the position number as the key - \n",
    "# to append keys (fasta name) sorted by position of mutation\n",
    "\n",
    "pos_keys_lists = {}\n",
    "\n",
    "for i in range(len(track)):\n",
    "    pos_keys_lists[track[i]] = []\n",
    "    \n",
    "    \n",
    "print (pos_keys_lists)"
   ]
  },
  {
   "cell_type": "code",
   "execution_count": 25,
   "metadata": {
    "collapsed": false
   },
   "outputs": [
    {
     "name": "stdout",
     "output_type": "stream",
     "text": [
      "Number of sequences with mutations at position 78: 20068\n",
      "Number of sequences with mutations at position 128: 19900\n",
      "Number of sequences with mutations at position 94: 19666\n"
     ]
    }
   ],
   "source": [
    "# extract keys/fasta file names for each mutated position and store in pos_keys_lists dictionary\n",
    "# store all keys/fasta file names corresponding to a particular position where position is the key \n",
    "# and keys (values) are stored as a list\n",
    "\n",
    "for x in track:\n",
    "    for key, value in pos_mut.items(): #dictionary of fasta file names (keys) with associated amino acid positions\n",
    "        if pos_mut[key] == x:              #if value (amino acid position) = position from track (x)\n",
    "            pos_keys_lists[x].append(key)  #save fasta file name (key) in list with position as key \n",
    "\n",
    "#test code\n",
    "print (\"Number of sequences with mutations at position 78:\",len(pos_keys_lists[78]))\n",
    "print (\"Number of sequences with mutations at position 128:\",len(pos_keys_lists[128]))\n",
    "print (\"Number of sequences with mutations at position 94:\",len(pos_keys_lists[94]))"
   ]
  },
  {
   "cell_type": "code",
   "execution_count": 26,
   "metadata": {
    "collapsed": false
   },
   "outputs": [
    {
     "name": "stdout",
     "output_type": "stream",
     "text": [
      "{94.0: [], 28.0: [], 112.0: [], 79.0: [], 76.0: [], 10.0: [], 13.0: [], 128.0: [], 55.0: [], 78.0: []}\n"
     ]
    }
   ],
   "source": [
    "# generate multiple empty lists using position number as key - \n",
    "# store mutated ammino acids for that position\n",
    "\n",
    "aa_lists = {}\n",
    "\n",
    "for i in range(len(track)):\n",
    "    aa_lists[track[i]] = []\n",
    "    \n",
    "    \n",
    "print (aa_lists)"
   ]
  },
  {
   "cell_type": "code",
   "execution_count": 28,
   "metadata": {
    "collapsed": false
   },
   "outputs": [
    {
     "name": "stdout",
     "output_type": "stream",
     "text": [
      "Position: 94.0\n",
      "Total number of sequences for position 94.0 : 19666\n",
      "Number of times a certain amino acid occurs at this position:\n",
      "dict_items([('V', 1342), ('M', 362), ('H', 702), ('I', 982), ('L', 2010), ('S', 1904), ('G', 1238), ('N', 666), ('R', 1938), ('Y', 634), ('T', 1306), ('C', 642), ('A', 1376), ('E', 750), ('Q', 578), ('P', 1320), ('K', 654), ('D', 628), ('W', 300), ('F', 334)])\n",
      " \n",
      "Position: 28.0\n",
      "Total number of sequences for position 28.0 : 19618\n",
      "Number of times a certain amino acid occurs at this position:\n",
      "dict_items([('R', 1852), ('E', 702), ('T', 1272), ('Y', 640), ('W', 326), ('C', 594), ('Q', 664), ('L', 1946), ('I', 996), ('H', 650), ('A', 1358), ('F', 306), ('G', 1422), ('P', 1356), ('V', 1238), ('N', 696), ('S', 1934), ('D', 706), ('K', 652), ('M', 308)])\n",
      " \n",
      "Position: 112.0\n",
      "Total number of sequences for position 112.0 : 19464\n",
      "Number of times a certain amino acid occurs at this position:\n",
      "dict_items([('L', 2008), ('Y', 686), ('N', 628), ('A', 1346), ('C', 728), ('V', 1292), ('P', 1210), ('S', 1902), ('K', 646), ('H', 632), ('D', 308), ('F', 644), ('T', 1358), ('R', 1916), ('W', 334), ('G', 1262), ('I', 946), ('Q', 578), ('E', 648), ('M', 392)])\n",
      " \n",
      "Position: 79.0\n",
      "Total number of sequences for position 79.0 : 19502\n",
      "Number of times a certain amino acid occurs at this position:\n",
      "dict_items([('K', 706), ('A', 1398), ('W', 286), ('F', 614), ('T', 1394), ('E', 598), ('M', 340), ('I', 982), ('H', 610), ('D', 700), ('P', 1366), ('S', 1968), ('Q', 706), ('R', 1898), ('C', 640), ('G', 1266), ('V', 1302), ('Y', 302), ('L', 1814), ('N', 612)])\n",
      " \n",
      "Position: 76.0\n",
      "Total number of sequences for position 76.0 : 19682\n",
      "Number of times a certain amino acid occurs at this position:\n",
      "dict_items([('C', 654), ('R', 1970), ('Q', 656), ('L', 1950), ('E', 686), ('I', 942), ('A', 1256), ('D', 320), ('P', 1368), ('F', 588), ('S', 1936), ('H', 652), ('N', 676), ('T', 1342), ('V', 1458), ('Y', 650), ('G', 1310), ('K', 604), ('M', 362), ('W', 302)])\n",
      " \n",
      "Position: 10.0\n",
      "Total number of sequences for position 10.0 : 19484\n",
      "Number of times a certain amino acid occurs at this position:\n",
      "dict_items([('P', 1190), ('S', 2002), ('Q', 676), ('A', 1286), ('I', 988), ('Y', 682), ('D', 758), ('T', 1296), ('L', 1882), ('W', 308), ('K', 652), ('F', 670), ('R', 1930), ('C', 652), ('G', 1236), ('H', 642), ('V', 1024), ('M', 276), ('N', 642), ('E', 692)])\n",
      " \n",
      "Position: 13.0\n",
      "Total number of sequences for position 13.0 : 19506\n",
      "Number of times a certain amino acid occurs at this position:\n",
      "dict_items([('D', 640), ('H', 672), ('G', 1264), ('L', 1898), ('I', 1006), ('S', 1918), ('Y', 640), ('V', 1362), ('P', 1034), ('C', 648), ('A', 1268), ('R', 1890), ('Q', 594), ('T', 1250), ('N', 712), ('F', 632), ('W', 368), ('E', 680), ('K', 646), ('M', 384)])\n",
      " \n",
      "Position: 128.0\n",
      "Total number of sequences for position 128.0 : 19900\n",
      "Number of times a certain amino acid occurs at this position:\n",
      "dict_items([('E', 636), ('L', 2046), ('H', 724), ('T', 1424), ('R', 1954), ('N', 680), ('I', 1082), ('S', 1878), ('Q', 664), ('A', 1308), ('F', 694), ('C', 612), ('P', 1308), ('D', 668), ('G', 1282), ('Y', 662), ('K', 338), ('M', 320), ('V', 1284), ('W', 336)])\n",
      " \n",
      "Position: 55.0\n",
      "Total number of sequences for position 55.0 : 19780\n",
      "Number of times a certain amino acid occurs at this position:\n",
      "dict_items([('L', 1936), ('P', 1308), ('S', 1606), ('A', 1352), ('M', 380), ('G', 1250), ('R', 2058), ('W', 324), ('V', 1246), ('T', 1346), ('N', 656), ('K', 706), ('Q', 682), ('I', 1008), ('E', 604), ('Y', 670), ('H', 642), ('D', 688), ('C', 684), ('F', 634)])\n",
      " \n",
      "Position: 78.0\n",
      "Total number of sequences for position 78.0 : 20068\n",
      "Number of times a certain amino acid occurs at this position:\n",
      "dict_items([('H', 624), ('G', 1472), ('T', 1390), ('W', 360), ('Y', 674), ('C', 624), ('I', 968), ('L', 1668), ('R', 2056), ('A', 1334), ('S', 1936), ('V', 1272), ('Q', 722), ('K', 658), ('P', 1326), ('M', 330), ('E', 586), ('D', 684), ('N', 688), ('F', 696)])\n",
      " \n"
     ]
    }
   ],
   "source": [
    "# using keys extracted according to position, now grab all the mutated amino acids for that position\n",
    "\n",
    "for x in track:\n",
    "    for key, value in aa_mut.items(): #dict of fasta file names/keys with corresponding amino acid\n",
    "        if key in pos_keys_lists[x]:        #if fasta file name (key) in list corresponding to position key (x)\n",
    "            aa_lists[x].append(aa_mut[key]) #grab the values (mutated amino acid) into list corresponding to position key (x)\n",
    "            \n",
    "            \n",
    "# use Counter to get number of each amino acid for positions\n",
    "for x in track:\n",
    "    aa_pos = Counter(aa_lists[x])\n",
    "    print (\"Position:\", x)\n",
    "    print (\"Total number of sequences for position\", x, \":\", len(aa_lists[x]))\n",
    "    print (\"Number of times a certain amino acid occurs at this position:\")\n",
    "    print (aa_pos.items())\n",
    "    print(\" \")"
   ]
  },
  {
   "cell_type": "code",
   "execution_count": 29,
   "metadata": {
    "collapsed": false
   },
   "outputs": [
    {
     "name": "stdout",
     "output_type": "stream",
     "text": [
      "{'F': [2], 'L': [0], 'S': [0], 'Y': [0], 'C': [0], 'W': [0], 'P': [0], 'H': [3], 'Q': [0], 'R': [0], 'I': [0], 'M': [0], 'T': [0], 'N': [0], 'K': [0], 'V': [0], 'A': [1], 'D': [0], 'E': [0], 'G': [0]}\n"
     ]
    }
   ],
   "source": [
    "# function to count amino acids in a list\n",
    "\n",
    "a_list = ['F', 'L', 'S', 'Y', 'C', 'W', 'P', 'H', 'Q', 'R', 'I', 'M', 'T', 'N', 'K', 'V', 'A', 'D', 'E', 'G']\n",
    "\n",
    "\n",
    "def count_aa(aa):\n",
    "    aa_count = {} # generate dictionary with amnio acids as key to keep count of each aa\n",
    "    for i in range(len(a_list)):\n",
    "        aa_count[a_list[i]] = []\n",
    "        \n",
    "    for x in a_list:\n",
    "        count = 0\n",
    "        for y in aa:\n",
    "            if y == x:\n",
    "                count += 1\n",
    "        aa_count[x].append(count)\n",
    "    return aa_count\n",
    "        \n",
    "aa_test = ['F', 'F', 'A', 'H', 'H', 'H']\n",
    "print (count_aa(aa_test))"
   ]
  },
  {
   "cell_type": "code",
   "execution_count": 31,
   "metadata": {
    "collapsed": false
   },
   "outputs": [
    {
     "name": "stdout",
     "output_type": "stream",
     "text": [
      "Amino acid counts at each position:\n",
      "Position 94.0\n",
      "[{'F': [334], 'L': [2010], 'S': [1904], 'Y': [634], 'C': [642], 'W': [300], 'P': [1320], 'H': [702], 'Q': [578], 'R': [1938], 'I': [982], 'M': [362], 'T': [1306], 'N': [666], 'K': [654], 'V': [1342], 'A': [1376], 'D': [628], 'E': [750], 'G': [1238]}]\n",
      "Total number of sequences for position 94.0 : 19666\n",
      " \n",
      "Position 28.0\n",
      "[{'F': [306], 'L': [1946], 'S': [1934], 'Y': [640], 'C': [594], 'W': [326], 'P': [1356], 'H': [650], 'Q': [664], 'R': [1852], 'I': [996], 'M': [308], 'T': [1272], 'N': [696], 'K': [652], 'V': [1238], 'A': [1358], 'D': [706], 'E': [702], 'G': [1422]}]\n",
      "Total number of sequences for position 28.0 : 19618\n",
      " \n",
      "Position 112.0\n",
      "[{'F': [644], 'L': [2008], 'S': [1902], 'Y': [686], 'C': [728], 'W': [334], 'P': [1210], 'H': [632], 'Q': [578], 'R': [1916], 'I': [946], 'M': [392], 'T': [1358], 'N': [628], 'K': [646], 'V': [1292], 'A': [1346], 'D': [308], 'E': [648], 'G': [1262]}]\n",
      "Total number of sequences for position 112.0 : 19464\n",
      " \n",
      "Position 79.0\n",
      "[{'F': [614], 'L': [1814], 'S': [1968], 'Y': [302], 'C': [640], 'W': [286], 'P': [1366], 'H': [610], 'Q': [706], 'R': [1898], 'I': [982], 'M': [340], 'T': [1394], 'N': [612], 'K': [706], 'V': [1302], 'A': [1398], 'D': [700], 'E': [598], 'G': [1266]}]\n",
      "Total number of sequences for position 79.0 : 19502\n",
      " \n",
      "Position 76.0\n",
      "[{'F': [588], 'L': [1950], 'S': [1936], 'Y': [650], 'C': [654], 'W': [302], 'P': [1368], 'H': [652], 'Q': [656], 'R': [1970], 'I': [942], 'M': [362], 'T': [1342], 'N': [676], 'K': [604], 'V': [1458], 'A': [1256], 'D': [320], 'E': [686], 'G': [1310]}]\n",
      "Total number of sequences for position 76.0 : 19682\n",
      " \n",
      "Position 10.0\n",
      "[{'F': [670], 'L': [1882], 'S': [2002], 'Y': [682], 'C': [652], 'W': [308], 'P': [1190], 'H': [642], 'Q': [676], 'R': [1930], 'I': [988], 'M': [276], 'T': [1296], 'N': [642], 'K': [652], 'V': [1024], 'A': [1286], 'D': [758], 'E': [692], 'G': [1236]}]\n",
      "Total number of sequences for position 10.0 : 19484\n",
      " \n",
      "Position 13.0\n",
      "[{'F': [632], 'L': [1898], 'S': [1918], 'Y': [640], 'C': [648], 'W': [368], 'P': [1034], 'H': [672], 'Q': [594], 'R': [1890], 'I': [1006], 'M': [384], 'T': [1250], 'N': [712], 'K': [646], 'V': [1362], 'A': [1268], 'D': [640], 'E': [680], 'G': [1264]}]\n",
      "Total number of sequences for position 13.0 : 19506\n",
      " \n",
      "Position 128.0\n",
      "[{'F': [694], 'L': [2046], 'S': [1878], 'Y': [662], 'C': [612], 'W': [336], 'P': [1308], 'H': [724], 'Q': [664], 'R': [1954], 'I': [1082], 'M': [320], 'T': [1424], 'N': [680], 'K': [338], 'V': [1284], 'A': [1308], 'D': [668], 'E': [636], 'G': [1282]}]\n",
      "Total number of sequences for position 128.0 : 19900\n",
      " \n",
      "Position 55.0\n",
      "[{'F': [634], 'L': [1936], 'S': [1606], 'Y': [670], 'C': [684], 'W': [324], 'P': [1308], 'H': [642], 'Q': [682], 'R': [2058], 'I': [1008], 'M': [380], 'T': [1346], 'N': [656], 'K': [706], 'V': [1246], 'A': [1352], 'D': [688], 'E': [604], 'G': [1250]}]\n",
      "Total number of sequences for position 55.0 : 19780\n",
      " \n",
      "Position 78.0\n",
      "[{'F': [696], 'L': [1668], 'S': [1936], 'Y': [674], 'C': [624], 'W': [360], 'P': [1326], 'H': [624], 'Q': [722], 'R': [2056], 'I': [968], 'M': [330], 'T': [1390], 'N': [688], 'K': [658], 'V': [1272], 'A': [1334], 'D': [684], 'E': [586], 'G': [1472]}]\n",
      "Total number of sequences for position 78.0 : 20068\n",
      " \n"
     ]
    }
   ],
   "source": [
    "# count the number of amino acids at each position\n",
    "\n",
    "aa_count_lib = {} # generate dictionary with positions as key to store lists of amino acid total counts for each position\n",
    "\n",
    "for i in range(len(track)):\n",
    "    aa_count_lib[track[i]] = []\n",
    "\n",
    "\n",
    "for x in track:                                #track positions - keys in aa_count_lib\n",
    "    for key, value in aa_lists.items():    #dict with positions as keys and list of mutated amino acids at that position\n",
    "        if key == x:\n",
    "            aa_count_lib[x].append(count_aa(value)) #count amino acids at position x\n",
    "            \n",
    "print (\"Amino acid counts at each position:\" )           \n",
    "for x in track:\n",
    "    print (\"Position\", x)\n",
    "    print (aa_count_lib[x])\n",
    "    print (\"Total number of sequences for position\", x ,\":\", len(aa_lists[x]))\n",
    "    print(\" \")"
   ]
  },
  {
   "cell_type": "code",
   "execution_count": 32,
   "metadata": {
    "collapsed": false
   },
   "outputs": [
    {
     "name": "stdout",
     "output_type": "stream",
     "text": [
      "{'F': ['0.3333'], 'L': ['0.0000'], 'S': ['0.0000'], 'Y': ['0.0000'], 'C': ['0.0000'], 'W': ['0.0000'], 'P': ['0.0000'], 'H': ['0.5000'], 'Q': ['0.0000'], 'R': ['0.0000'], 'I': ['0.0000'], 'M': ['0.0000'], 'T': ['0.0000'], 'N': ['0.0000'], 'K': ['0.0000'], 'V': ['0.0000'], 'A': ['0.1667'], 'D': ['0.0000'], 'E': ['0.0000'], 'G': ['0.0000']}\n"
     ]
    }
   ],
   "source": [
    "# function to get amino acid frequency\n",
    "\n",
    "def freq_aa(aa):\n",
    "    aa_freq = {} # generate dictionary with amnio acids as key to keep count of each aa\n",
    "    for i in range(len(a_list)):\n",
    "        aa_freq[a_list[i]] = []\n",
    "        \n",
    "    for x in a_list:\n",
    "        count = 0.0\n",
    "        for y in aa:\n",
    "            total = len(aa)  #length of the list, that is, total number of mutated amino acids at that position\n",
    "            if y == x:\n",
    "                count += 1.0\n",
    "        aa_freq[x].append(\"%.4f\"%(count/total))\n",
    "    return aa_freq\n",
    "        \n",
    "aa_test = ['F', 'F', 'A', 'H', 'H', 'H']\n",
    "print (freq_aa(aa_test))"
   ]
  },
  {
   "cell_type": "code",
   "execution_count": 33,
   "metadata": {
    "collapsed": false
   },
   "outputs": [
    {
     "name": "stdout",
     "output_type": "stream",
     "text": [
      "Amino acid frequencies at each position:\n",
      "Position 94.0\n",
      "[{'F': ['0.0170'], 'L': ['0.1022'], 'S': ['0.0968'], 'Y': ['0.0322'], 'C': ['0.0326'], 'W': ['0.0153'], 'P': ['0.0671'], 'H': ['0.0357'], 'Q': ['0.0294'], 'R': ['0.0985'], 'I': ['0.0499'], 'M': ['0.0184'], 'T': ['0.0664'], 'N': ['0.0339'], 'K': ['0.0333'], 'V': ['0.0682'], 'A': ['0.0700'], 'D': ['0.0319'], 'E': ['0.0381'], 'G': ['0.0630']}]\n",
      " \n",
      "Position 28.0\n",
      "[{'F': ['0.0156'], 'L': ['0.0992'], 'S': ['0.0986'], 'Y': ['0.0326'], 'C': ['0.0303'], 'W': ['0.0166'], 'P': ['0.0691'], 'H': ['0.0331'], 'Q': ['0.0338'], 'R': ['0.0944'], 'I': ['0.0508'], 'M': ['0.0157'], 'T': ['0.0648'], 'N': ['0.0355'], 'K': ['0.0332'], 'V': ['0.0631'], 'A': ['0.0692'], 'D': ['0.0360'], 'E': ['0.0358'], 'G': ['0.0725']}]\n",
      " \n",
      "Position 112.0\n",
      "[{'F': ['0.0331'], 'L': ['0.1032'], 'S': ['0.0977'], 'Y': ['0.0352'], 'C': ['0.0374'], 'W': ['0.0172'], 'P': ['0.0622'], 'H': ['0.0325'], 'Q': ['0.0297'], 'R': ['0.0984'], 'I': ['0.0486'], 'M': ['0.0201'], 'T': ['0.0698'], 'N': ['0.0323'], 'K': ['0.0332'], 'V': ['0.0664'], 'A': ['0.0692'], 'D': ['0.0158'], 'E': ['0.0333'], 'G': ['0.0648']}]\n",
      " \n",
      "Position 79.0\n",
      "[{'F': ['0.0315'], 'L': ['0.0930'], 'S': ['0.1009'], 'Y': ['0.0155'], 'C': ['0.0328'], 'W': ['0.0147'], 'P': ['0.0700'], 'H': ['0.0313'], 'Q': ['0.0362'], 'R': ['0.0973'], 'I': ['0.0504'], 'M': ['0.0174'], 'T': ['0.0715'], 'N': ['0.0314'], 'K': ['0.0362'], 'V': ['0.0668'], 'A': ['0.0717'], 'D': ['0.0359'], 'E': ['0.0307'], 'G': ['0.0649']}]\n",
      " \n",
      "Position 76.0\n",
      "[{'F': ['0.0299'], 'L': ['0.0991'], 'S': ['0.0984'], 'Y': ['0.0330'], 'C': ['0.0332'], 'W': ['0.0153'], 'P': ['0.0695'], 'H': ['0.0331'], 'Q': ['0.0333'], 'R': ['0.1001'], 'I': ['0.0479'], 'M': ['0.0184'], 'T': ['0.0682'], 'N': ['0.0343'], 'K': ['0.0307'], 'V': ['0.0741'], 'A': ['0.0638'], 'D': ['0.0163'], 'E': ['0.0349'], 'G': ['0.0666']}]\n",
      " \n",
      "Position 10.0\n",
      "[{'F': ['0.0344'], 'L': ['0.0966'], 'S': ['0.1028'], 'Y': ['0.0350'], 'C': ['0.0335'], 'W': ['0.0158'], 'P': ['0.0611'], 'H': ['0.0330'], 'Q': ['0.0347'], 'R': ['0.0991'], 'I': ['0.0507'], 'M': ['0.0142'], 'T': ['0.0665'], 'N': ['0.0330'], 'K': ['0.0335'], 'V': ['0.0526'], 'A': ['0.0660'], 'D': ['0.0389'], 'E': ['0.0355'], 'G': ['0.0634']}]\n",
      " \n",
      "Position 13.0\n",
      "[{'F': ['0.0324'], 'L': ['0.0973'], 'S': ['0.0983'], 'Y': ['0.0328'], 'C': ['0.0332'], 'W': ['0.0189'], 'P': ['0.0530'], 'H': ['0.0345'], 'Q': ['0.0305'], 'R': ['0.0969'], 'I': ['0.0516'], 'M': ['0.0197'], 'T': ['0.0641'], 'N': ['0.0365'], 'K': ['0.0331'], 'V': ['0.0698'], 'A': ['0.0650'], 'D': ['0.0328'], 'E': ['0.0349'], 'G': ['0.0648']}]\n",
      " \n",
      "Position 128.0\n",
      "[{'F': ['0.0349'], 'L': ['0.1028'], 'S': ['0.0944'], 'Y': ['0.0333'], 'C': ['0.0308'], 'W': ['0.0169'], 'P': ['0.0657'], 'H': ['0.0364'], 'Q': ['0.0334'], 'R': ['0.0982'], 'I': ['0.0544'], 'M': ['0.0161'], 'T': ['0.0716'], 'N': ['0.0342'], 'K': ['0.0170'], 'V': ['0.0645'], 'A': ['0.0657'], 'D': ['0.0336'], 'E': ['0.0320'], 'G': ['0.0644']}]\n",
      " \n",
      "Position 55.0\n",
      "[{'F': ['0.0321'], 'L': ['0.0979'], 'S': ['0.0812'], 'Y': ['0.0339'], 'C': ['0.0346'], 'W': ['0.0164'], 'P': ['0.0661'], 'H': ['0.0325'], 'Q': ['0.0345'], 'R': ['0.1040'], 'I': ['0.0510'], 'M': ['0.0192'], 'T': ['0.0680'], 'N': ['0.0332'], 'K': ['0.0357'], 'V': ['0.0630'], 'A': ['0.0684'], 'D': ['0.0348'], 'E': ['0.0305'], 'G': ['0.0632']}]\n",
      " \n",
      "Position 78.0\n",
      "[{'F': ['0.0347'], 'L': ['0.0831'], 'S': ['0.0965'], 'Y': ['0.0336'], 'C': ['0.0311'], 'W': ['0.0179'], 'P': ['0.0661'], 'H': ['0.0311'], 'Q': ['0.0360'], 'R': ['0.1025'], 'I': ['0.0482'], 'M': ['0.0164'], 'T': ['0.0693'], 'N': ['0.0343'], 'K': ['0.0328'], 'V': ['0.0634'], 'A': ['0.0665'], 'D': ['0.0341'], 'E': ['0.0292'], 'G': ['0.0734']}]\n",
      " \n"
     ]
    }
   ],
   "source": [
    "# get the frequency of amino acids at each position for control library - baseline frequencies\n",
    "\n",
    "aa_freq_c = {} # generate dictionary with positions as key to store lists of amino acid total counts for each position\n",
    "\n",
    "for i in range(len(track)):\n",
    "    aa_freq_c[track[i]] = []\n",
    "\n",
    "\n",
    "for x in track:\n",
    "    for key, value in aa_lists.items():\n",
    "        if key == x:\n",
    "            aa_freq_c[x].append(freq_aa(value))\n",
    "            \n",
    "\n",
    "print (\"Amino acid frequencies at each position:\")            \n",
    "for x in track:\n",
    "    print (\"Position\", x)\n",
    "    print (aa_freq_c[x])\n",
    "    print(\" \")"
   ]
  },
  {
   "cell_type": "code",
   "execution_count": 36,
   "metadata": {
    "collapsed": false
   },
   "outputs": [
    {
     "name": "stdout",
     "output_type": "stream",
     "text": [
      "{'F': ['33.3333%'], 'L': [0.0], 'S': [0.0], 'Y': [0.0], 'C': [0.0], 'W': [0.0], 'P': [0.0], 'H': ['50.0000%'], 'Q': [0.0], 'R': [0.0], 'I': [0.0], 'M': [0.0], 'T': [0.0], 'N': [0.0], 'K': [0.0], 'V': [0.0], 'A': ['16.6667%'], 'D': [0.0], 'E': [0.0], 'G': [0.0]}\n"
     ]
    }
   ],
   "source": [
    "# function to get amino acid frequency as a percentage\n",
    "\n",
    "def freq_aa100(aa):\n",
    "    aa_freq100 = {} # generate dictionary with amnio acids as key to keep count of each aa\n",
    "    for i in range(len(a_list)):\n",
    "        aa_freq100[a_list[i]] = []\n",
    "        \n",
    "    for x in a_list:\n",
    "        count = 0.0\n",
    "        freq100 = 0.0\n",
    "        for y in aa:\n",
    "            total = len(aa)  #length of the list, that is, total number of mutated amino acids at that position\n",
    "            if y == x:\n",
    "                count += 1.0\n",
    "                freq100 = \"%.4f%%\" % (100 * (count/total))\n",
    "        aa_freq100[x].append(freq100)\n",
    "    return aa_freq100\n",
    "        \n",
    "aa_test = ['F', 'F', 'A', 'H', 'H', 'H']\n",
    "print (freq_aa100(aa_test))"
   ]
  },
  {
   "cell_type": "code",
   "execution_count": 35,
   "metadata": {
    "collapsed": false
   },
   "outputs": [
    {
     "name": "stdout",
     "output_type": "stream",
     "text": [
      "Amino acid frequencies at each position:\n",
      "Position 94.0\n",
      "[{'F': ['1.6984%'], 'L': ['10.2207%'], 'S': ['9.6817%'], 'Y': ['3.2238%'], 'C': ['3.2645%'], 'W': ['1.5255%'], 'P': ['6.7121%'], 'H': ['3.5696%'], 'Q': ['2.9391%'], 'R': ['9.8546%'], 'I': ['4.9934%'], 'M': ['1.8407%'], 'T': ['6.6409%'], 'N': ['3.3866%'], 'K': ['3.3255%'], 'V': ['6.8240%'], 'A': ['6.9968%'], 'D': ['3.1933%'], 'E': ['3.8137%'], 'G': ['6.2951%']}]\n",
      " \n",
      "Position 28.0\n",
      "[{'F': ['1.5598%'], 'L': ['9.9195%'], 'S': ['9.8583%'], 'Y': ['3.2623%'], 'C': ['3.0278%'], 'W': ['1.6617%'], 'P': ['6.9120%'], 'H': ['3.3133%'], 'Q': ['3.3846%'], 'R': ['9.4403%'], 'I': ['5.0770%'], 'M': ['1.5700%'], 'T': ['6.4838%'], 'N': ['3.5478%'], 'K': ['3.3235%'], 'V': ['6.3105%'], 'A': ['6.9222%'], 'D': ['3.5987%'], 'E': ['3.5783%'], 'G': ['7.2484%']}]\n",
      " \n",
      "Position 112.0\n",
      "[{'F': ['3.3087%'], 'L': ['10.3165%'], 'S': ['9.7719%'], 'Y': ['3.5245%'], 'C': ['3.7402%'], 'W': ['1.7160%'], 'P': ['6.2166%'], 'H': ['3.2470%'], 'Q': ['2.9696%'], 'R': ['9.8438%'], 'I': ['4.8603%'], 'M': ['2.0140%'], 'T': ['6.9770%'], 'N': ['3.2265%'], 'K': ['3.3189%'], 'V': ['6.6379%'], 'A': ['6.9153%'], 'D': ['1.5824%'], 'E': ['3.3292%'], 'G': ['6.4838%']}]\n",
      " \n",
      "Position 79.0\n",
      "[{'F': ['3.1484%'], 'L': ['9.3016%'], 'S': ['10.0913%'], 'Y': ['1.5486%'], 'C': ['3.2817%'], 'W': ['1.4665%'], 'P': ['7.0044%'], 'H': ['3.1279%'], 'Q': ['3.6201%'], 'R': ['9.7323%'], 'I': ['5.0354%'], 'M': ['1.7434%'], 'T': ['7.1480%'], 'N': ['3.1381%'], 'K': ['3.6201%'], 'V': ['6.6762%'], 'A': ['7.1685%'], 'D': ['3.5894%'], 'E': ['3.0664%'], 'G': ['6.4916%']}]\n",
      " \n",
      "Position 76.0\n",
      "[{'F': ['2.9875%'], 'L': ['9.9075%'], 'S': ['9.8364%'], 'Y': ['3.3025%'], 'C': ['3.3228%'], 'W': ['1.5344%'], 'P': ['6.9505%'], 'H': ['3.3127%'], 'Q': ['3.3330%'], 'R': ['10.0091%'], 'I': ['4.7861%'], 'M': ['1.8392%'], 'T': ['6.8184%'], 'N': ['3.4346%'], 'K': ['3.0688%'], 'V': ['7.4078%'], 'A': ['6.3815%'], 'D': ['1.6259%'], 'E': ['3.4854%'], 'G': ['6.6558%']}]\n",
      " \n",
      "Position 10.0\n",
      "[{'F': ['3.4387%'], 'L': ['9.6592%'], 'S': ['10.2751%'], 'Y': ['3.5003%'], 'C': ['3.3463%'], 'W': ['1.5808%'], 'P': ['6.1076%'], 'H': ['3.2950%'], 'Q': ['3.4695%'], 'R': ['9.9056%'], 'I': ['5.0708%'], 'M': ['1.4165%'], 'T': ['6.6516%'], 'N': ['3.2950%'], 'K': ['3.3463%'], 'V': ['5.2556%'], 'A': ['6.6003%'], 'D': ['3.8904%'], 'E': ['3.5516%'], 'G': ['6.3437%']}]\n",
      " \n",
      "Position 13.0\n",
      "[{'F': ['3.2400%'], 'L': ['9.7303%'], 'S': ['9.8329%'], 'Y': ['3.2810%'], 'C': ['3.3221%'], 'W': ['1.8866%'], 'P': ['5.3009%'], 'H': ['3.4451%'], 'Q': ['3.0452%'], 'R': ['9.6893%'], 'I': ['5.1574%'], 'M': ['1.9686%'], 'T': ['6.4083%'], 'N': ['3.6502%'], 'K': ['3.3118%'], 'V': ['6.9825%'], 'A': ['6.5006%'], 'D': ['3.2810%'], 'E': ['3.4861%'], 'G': ['6.4801%']}]\n",
      " \n",
      "Position 128.0\n",
      "[{'F': ['3.4874%'], 'L': ['10.2814%'], 'S': ['9.4372%'], 'Y': ['3.3266%'], 'C': ['3.0754%'], 'W': ['1.6884%'], 'P': ['6.5729%'], 'H': ['3.6382%'], 'Q': ['3.3367%'], 'R': ['9.8191%'], 'I': ['5.4372%'], 'M': ['1.6080%'], 'T': ['7.1558%'], 'N': ['3.4171%'], 'K': ['1.6985%'], 'V': ['6.4523%'], 'A': ['6.5729%'], 'D': ['3.3568%'], 'E': ['3.1960%'], 'G': ['6.4422%']}]\n",
      " \n",
      "Position 55.0\n",
      "[{'F': ['3.2053%'], 'L': ['9.7877%'], 'S': ['8.1193%'], 'Y': ['3.3873%'], 'C': ['3.4580%'], 'W': ['1.6380%'], 'P': ['6.6127%'], 'H': ['3.2457%'], 'Q': ['3.4479%'], 'R': ['10.4044%'], 'I': ['5.0961%'], 'M': ['1.9211%'], 'T': ['6.8049%'], 'N': ['3.3165%'], 'K': ['3.5693%'], 'V': ['6.2993%'], 'A': ['6.8352%'], 'D': ['3.4783%'], 'E': ['3.0536%'], 'G': ['6.3195%']}]\n",
      " \n",
      "Position 78.0\n",
      "[{'F': ['3.4682%'], 'L': ['8.3117%'], 'S': ['9.6472%'], 'Y': ['3.3586%'], 'C': ['3.1094%'], 'W': ['1.7939%'], 'P': ['6.6075%'], 'H': ['3.1094%'], 'Q': ['3.5978%'], 'R': ['10.2452%'], 'I': ['4.8236%'], 'M': ['1.6444%'], 'T': ['6.9265%'], 'N': ['3.4283%'], 'K': ['3.2789%'], 'V': ['6.3384%'], 'A': ['6.6474%'], 'D': ['3.4084%'], 'E': ['2.9201%'], 'G': ['7.3351%']}]\n",
      " \n"
     ]
    }
   ],
   "source": [
    "# get the frequency of amino acids at each position for control library - baseline frequencies, as a percentage\n",
    "\n",
    "aa_freq_c100 = {} # generate dictionary with positions as key to store lists of amino acid total counts for each position\n",
    "\n",
    "for i in range(len(track)):\n",
    "    aa_freq_c100[track[i]] = []\n",
    "\n",
    "\n",
    "for x in track:\n",
    "    for key, value in aa_lists.items():\n",
    "        if key == x:\n",
    "            aa_freq_c100[x].append(freq_aa100(value))\n",
    "            \n",
    "\n",
    "print (\"Amino acid frequencies at each position:\")            \n",
    "for x in track:\n",
    "    print (\"Position\", x)\n",
    "    print (aa_freq_c100[x])\n",
    "    print(\" \")"
   ]
  },
  {
   "cell_type": "code",
   "execution_count": null,
   "metadata": {
    "collapsed": true
   },
   "outputs": [],
   "source": []
  }
 ],
 "metadata": {
  "kernelspec": {
   "display_name": "Python 3",
   "language": "python",
   "name": "python3"
  },
  "language_info": {
   "codemirror_mode": {
    "name": "ipython",
    "version": 3
   },
   "file_extension": ".py",
   "mimetype": "text/x-python",
   "name": "python",
   "nbconvert_exporter": "python",
   "pygments_lexer": "ipython3",
   "version": "3.6.0"
  }
 },
 "nbformat": 4,
 "nbformat_minor": 2
}
