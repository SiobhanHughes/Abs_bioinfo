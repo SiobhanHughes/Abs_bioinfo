{
 "cells": [
  {
   "cell_type": "code",
   "execution_count": 1,
   "metadata": {
    "collapsed": true
   },
   "outputs": [],
   "source": [
    "# ANTIBODY CONTROL LIBRARY"
   ]
  },
  {
   "cell_type": "code",
   "execution_count": 2,
   "metadata": {
    "collapsed": false
   },
   "outputs": [
    {
     "name": "stdout",
     "output_type": "stream",
     "text": [
      "CAGCGATTAGTGGAGTCTGGGGGAGGCGTGGTCCAGCCTGGGTCGTCCCTGAGACTCTCCTGTGCAGCGTCCGGATTCGACTTCAGTAGACAAGGCATGCACTGGGTCCGCCAGGCTCCAGGCCAGGGGCTGGAGTGGGTGGCATTTATTAAATATGATGGAAGTGAGAAATATCATGCTGACTCCGTATGGGGCCGACTCAGCATCTCCAGAGACAATTCCAAGGATACGCTTTATCTCCAAATGAATAGCCTGAGAGTCGAGGACACGGCTACATATTTTTGTGTGAGAGAGGCTGGTGGGCCCGACTACCGTAATGGGTACAACTATTACGATTTCTATGATGGTTATTATAACTACCACTATATGGACGTCTGGGGCAAAGGGACCACGGTCACCGTCTCGAGC\n"
     ]
    }
   ],
   "source": [
    "# Etract PG9 DNA sequence (a string)\n",
    "\n",
    "with open(\"source_sequence.fasta.txt\", \"r\") as source:\n",
    "    for line in source:\n",
    "        if not line.startswith('>'):\n",
    "            PG9_seq = line.strip()\n",
    "            \n",
    "print(PG9_seq)"
   ]
  },
  {
   "cell_type": "code",
   "execution_count": 6,
   "metadata": {
    "collapsed": false
   },
   "outputs": [
    {
     "name": "stdout",
     "output_type": "stream",
     "text": [
      "CAGCGATTAGTGGAGTCTGGGGGAGGCGTGGTCCAGCCTGGGTCGTCCCTGAGACTCTCCTGTGCAGCGTCCGGATTCGACTTCAGTAGACAAGGCATGCACTGGGTCCGCCAGGCTCCAGGCCAGGGGCTGGAGTGGGTGGCATTTATTAAATATGATGGAAGTGAGAAATATCATGCTGACTCCGTATGGGGCCGACTCAGCATCTCCAGAGACAATTCCAAGGATACGCTTTATCTCCAAATGAATAGCCTGAGAGTCGAGGACACGGCTACATATGTATGTGTGAGAGAGGCTGGTGGGCCCGACTACCGTAATGGGTACAACTATTACGATTTCTATGATGGTTATTATAACTACCACTATATGGACGTCTGGGGCAAAGGGACCACGGTCACCGTCTCGAGC\n",
      "100000\n"
     ]
    }
   ],
   "source": [
    "# extract sequences from control library - FASTA files\n",
    "\n",
    "#create a dictionary with fasta names and sequences\n",
    "\n",
    "keys = []\n",
    "values = []\n",
    "\n",
    "# loop through library and extract fasta names as keys for dictionary and then the sequences as the values\n",
    "\n",
    "with open(\"control_library.fasta.txt\", \"r\") as control_lib:\n",
    "    for line in control_lib:\n",
    "        if line.startswith('>'):\n",
    "            keys.append(line.strip().lstrip(\">\"))\n",
    "        else:\n",
    "            values.append(line.strip())\n",
    "\n",
    "control = dict(zip(keys, values)) # control library in dictionary format with fasta names as keys and sequences as values\n",
    "\n",
    "print (control['74a74b4e-e0c6-4fb7-bf10-cf36fa80638c'])\n",
    "print (len(keys)) #total number of DNA sequences (strings) in the file"
   ]
  },
  {
   "cell_type": "code",
   "execution_count": 8,
   "metadata": {
    "collapsed": false
   },
   "outputs": [
    {
     "name": "stdout",
     "output_type": "stream",
     "text": [
      "['TTT', 'TTC', 'TTA', 'TTG', 'TCT', 'TCC', 'TCA', 'TCG', 'TAT', 'TAC', 'TAA', 'TAG', 'TGT', 'TGC', 'TGA', 'TGG', 'CTT', 'CTC', 'CTA', 'CTG', 'CCT', 'CCC', 'CCA', 'CCG', 'CAT', 'CAC', 'CAA', 'CAG', 'CGT', 'CGC', 'CGA', 'CGG', 'ATT', 'ATC', 'ATA', 'ATG', 'ACT', 'ACC', 'ACA', 'ACG', 'AAT', 'AAC', 'AAA', 'AAG', 'AGT', 'AGC', 'AGA', 'AGG', 'GTT', 'GTC', 'GTA', 'GTG', 'GCT', 'GCC', 'GCA', 'GCG', 'GAT', 'GAC', 'GAA', 'GAG', 'GGT', 'GGC', 'GGA', 'GGG']\n"
     ]
    }
   ],
   "source": [
    "# create codon:amino acid dictionary (codons as keys in the dictionary)\n",
    "\n",
    "bases = ['T', 'C', 'A', 'G']\n",
    "codons = [a+b+c for a in bases for b in bases for c in bases]\n",
    "amino_acids = 'FFLLSSSSYY**CC*WLLLLPPPPHHQQRRRRIIIMTTTTNNKKSSRRVVVVAAAADDEEGGGG'  #STOP = *\n",
    "codon_table = dict(zip(codons, amino_acids))\n",
    "\n",
    "# How codon loop works:\n",
    "# first loop - a and b remain constant (T) and c changes: TTT, TTC, TTA, TTG\n",
    "# second loop - a is T, b is C and c changes: TCT TCC TCA TCG\n",
    "\n",
    "print(codons)"
   ]
  },
  {
   "cell_type": "code",
   "execution_count": 11,
   "metadata": {
    "collapsed": false
   },
   "outputs": [
    {
     "name": "stdout",
     "output_type": "stream",
     "text": [
      "M\n"
     ]
    }
   ],
   "source": [
    "# function to convert codon to single letter amino acid code\n",
    "\n",
    "def translate(codon):\n",
    "    for key, value in codon_table.items():\n",
    "        if codon == key:\n",
    "            return value\n",
    "    \n",
    "print(translate('ATG'))"
   ]
  },
  {
   "cell_type": "code",
   "execution_count": 12,
   "metadata": {
    "collapsed": true
   },
   "outputs": [],
   "source": [
    "# loop through dictionary containing many DNA sequences (control library)\n",
    "# compare sequences to PG9 sequence and output mutated codons, translate to amino acids and get positions\n",
    "\n",
    "key_c = []  #store keys - fasta names\n",
    "aa_c = []   #store amino acid (translate codon after moving through sequence every 3 nucleotides and compare to PG9)\n",
    "pos_c = []  #store amino acid position\n",
    "\n",
    "\n",
    "for key, value in control.items():  #loop through control library of sequences\n",
    "    for pos in range(0, len(value)+1, 3):  # move through sequence (values) every 3 nucleotides (codons)\n",
    "        if value[pos:pos+3] != PG9_seq[pos:pos+3]:\n",
    "            #print key\n",
    "            #print \"mutated codon:\", value[pos:pos+3] \n",
    "            #print \"mutated amino acid:\", translate(value[pos:pos+3]) #translate function - codon to single letter aa\n",
    "            #print \"amino acid position:\", (pos+3)/3\n",
    "            key_c.append(key)\n",
    "            aa_c.append(translate(value[pos:pos+3]))\n",
    "            pos_c.append((pos+3)/3)\n",
    "            \n",
    "aa_mut_c = dict(zip(key_c, aa_c))  #keys (fasta file name) with corresponding mutated amino acid\n",
    "pos_mut_c = dict(zip(key_c, pos_c))#same keys as above with corresponding amino acid position"
   ]
  },
  {
   "cell_type": "code",
   "execution_count": 14,
   "metadata": {
    "collapsed": false
   },
   "outputs": [
    {
     "name": "stdout",
     "output_type": "stream",
     "text": [
      "dict_items([(94.0, 9833), (28.0, 9809), (112.0, 9732), (79.0, 9751), (76.0, 9841), (10.0, 9742), (13.0, 9753), (128.0, 9950), (55.0, 9890), (78.0, 10034)])\n",
      " \n",
      "Total number of sequences in control library: 100000\n",
      "Total number of sequences with mutations: 98335\n",
      "Number of unmutated sequences: 1665\n"
     ]
    }
   ],
   "source": [
    "# Count the number of times each mutated postion occurs - \n",
    "# output is (position, number of sequences with a mutation at that position)\n",
    "\n",
    "from collections import Counter\n",
    "\n",
    "unique = Counter(pos_c)\n",
    "print (unique.items())\n",
    "\n",
    "print(\" \")\n",
    "print (\"Total number of sequences in control library:\", len(keys))\n",
    "print (\"Total number of sequences with mutations:\", len(key_c))\n",
    "print (\"Number of unmutated sequences:\", len(keys)-len(key_c))"
   ]
  },
  {
   "cell_type": "code",
   "execution_count": 15,
   "metadata": {
    "collapsed": false
   },
   "outputs": [
    {
     "name": "stdout",
     "output_type": "stream",
     "text": [
      "[94.0, 28.0, 112.0, 79.0, 76.0, 10.0, 13.0, 128.0, 55.0, 78.0]\n",
      "10\n"
     ]
    }
   ],
   "source": [
    "# function to output a list of positions mutated - unique\n",
    "\n",
    "def pos_mutated(pos):\n",
    "    unique = []\n",
    "    for x in pos:\n",
    "        if x not in unique:\n",
    "            unique.append(x)\n",
    "    return unique\n",
    "\n",
    "\n",
    "track = pos_mutated(pos_c) #track the positions mutated\n",
    "print (track)\n",
    "print (len(track))"
   ]
  },
  {
   "cell_type": "code",
   "execution_count": 16,
   "metadata": {
    "collapsed": false
   },
   "outputs": [
    {
     "name": "stdout",
     "output_type": "stream",
     "text": [
      "{94.0: [], 28.0: [], 112.0: [], 79.0: [], 76.0: [], 10.0: [], 13.0: [], 128.0: [], 55.0: [], 78.0: []}\n"
     ]
    }
   ],
   "source": [
    "# generate multiple empty lists using the position number as the key - \n",
    "# to append keys (fasta name) sorted by position of mutation\n",
    "\n",
    "pos_keys_lists = {}\n",
    "\n",
    "for i in range(len(track)):\n",
    "    pos_keys_lists[track[i]] = []\n",
    "    \n",
    "    \n",
    "print (pos_keys_lists)"
   ]
  },
  {
   "cell_type": "code",
   "execution_count": 18,
   "metadata": {
    "collapsed": false
   },
   "outputs": [
    {
     "name": "stdout",
     "output_type": "stream",
     "text": [
      "10034\n",
      "9950\n",
      "9833\n"
     ]
    }
   ],
   "source": [
    "# extract keys/fasta file names for each position and store in pos_keys_lists dictionary\n",
    "# store all keys/fasta file names corresponding to a particular position where position is the key \n",
    "# and keys (values) are stored as a list\n",
    "\n",
    "for x in track:\n",
    "    for key, value in pos_mut_c.items(): #dictionary of fasta file names (keys) with associated aa positions\n",
    "        if pos_mut_c[key] == x:              #if value (aa position) = position from track (x)\n",
    "            pos_keys_lists[x].append(key)    #save fasta file name (key) in list corresponding position key of new dict\n",
    "\n",
    "print (len(pos_keys_lists[78]))\n",
    "print (len(pos_keys_lists[128]))\n",
    "print (len(pos_keys_lists[94]))"
   ]
  },
  {
   "cell_type": "code",
   "execution_count": 19,
   "metadata": {
    "collapsed": false
   },
   "outputs": [
    {
     "name": "stdout",
     "output_type": "stream",
     "text": [
      "{94.0: [], 28.0: [], 112.0: [], 79.0: [], 76.0: [], 10.0: [], 13.0: [], 128.0: [], 55.0: [], 78.0: []}\n"
     ]
    }
   ],
   "source": [
    "# generate multiple empty lists using position number as key - store mutated ammino acids for that position\n",
    "\n",
    "aa_lists = {}\n",
    "\n",
    "for i in range(len(track)):\n",
    "    aa_lists[track[i]] = []\n",
    "    \n",
    "    \n",
    "print (aa_lists)"
   ]
  },
  {
   "cell_type": "code",
   "execution_count": 20,
   "metadata": {
    "collapsed": false
   },
   "outputs": [
    {
     "name": "stdout",
     "output_type": "stream",
     "text": [
      "Position: 94.0\n",
      "Total number of sequences for position 94.0 : 9833\n",
      "dict_items([('V', 671), ('M', 181), ('H', 351), ('I', 491), ('L', 1005), ('S', 952), ('G', 619), ('N', 333), ('R', 969), ('Y', 317), ('T', 653), ('C', 321), ('A', 688), ('E', 375), ('Q', 289), ('P', 660), ('K', 327), ('D', 314), ('W', 150), ('F', 167)])\n",
      " \n",
      "Position: 28.0\n",
      "Total number of sequences for position 28.0 : 9809\n",
      "dict_items([('R', 926), ('E', 351), ('T', 636), ('Y', 320), ('W', 163), ('C', 297), ('Q', 332), ('L', 973), ('I', 498), ('H', 325), ('A', 679), ('F', 153), ('G', 711), ('P', 678), ('V', 619), ('N', 348), ('S', 967), ('D', 353), ('K', 326), ('M', 154)])\n",
      " \n",
      "Position: 112.0\n",
      "Total number of sequences for position 112.0 : 9732\n",
      "dict_items([('L', 1004), ('Y', 343), ('N', 314), ('A', 673), ('C', 364), ('V', 646), ('P', 605), ('S', 951), ('K', 323), ('H', 316), ('D', 154), ('F', 322), ('T', 679), ('R', 958), ('W', 167), ('G', 631), ('I', 473), ('Q', 289), ('E', 324), ('M', 196)])\n",
      " \n",
      "Position: 79.0\n",
      "Total number of sequences for position 79.0 : 9751\n",
      "dict_items([('K', 353), ('A', 699), ('W', 143), ('F', 307), ('T', 697), ('E', 299), ('M', 170), ('I', 491), ('H', 305), ('D', 350), ('P', 683), ('S', 984), ('Q', 353), ('R', 949), ('C', 320), ('G', 633), ('V', 651), ('Y', 151), ('L', 907), ('N', 306)])\n",
      " \n",
      "Position: 76.0\n",
      "Total number of sequences for position 76.0 : 9841\n",
      "dict_items([('C', 327), ('R', 985), ('Q', 328), ('L', 975), ('E', 343), ('I', 471), ('A', 628), ('D', 160), ('P', 684), ('F', 294), ('S', 968), ('H', 326), ('N', 338), ('T', 671), ('V', 729), ('Y', 325), ('G', 655), ('K', 302), ('M', 181), ('W', 151)])\n",
      " \n",
      "Position: 10.0\n",
      "Total number of sequences for position 10.0 : 9742\n",
      "dict_items([('P', 595), ('S', 1001), ('Q', 338), ('A', 643), ('I', 494), ('Y', 341), ('D', 379), ('T', 648), ('L', 941), ('W', 154), ('K', 326), ('F', 335), ('R', 965), ('C', 326), ('G', 618), ('H', 321), ('V', 512), ('M', 138), ('N', 321), ('E', 346)])\n",
      " \n",
      "Position: 13.0\n",
      "Total number of sequences for position 13.0 : 9753\n",
      "dict_items([('D', 320), ('H', 336), ('G', 632), ('L', 949), ('I', 503), ('S', 959), ('Y', 320), ('V', 681), ('P', 517), ('C', 324), ('A', 634), ('R', 945), ('Q', 297), ('T', 625), ('N', 356), ('F', 316), ('W', 184), ('E', 340), ('K', 323), ('M', 192)])\n",
      " \n",
      "Position: 128.0\n",
      "Total number of sequences for position 128.0 : 9950\n",
      "dict_items([('E', 318), ('L', 1023), ('H', 362), ('T', 712), ('R', 977), ('N', 340), ('I', 541), ('S', 939), ('Q', 332), ('A', 654), ('F', 347), ('C', 306), ('P', 654), ('D', 334), ('G', 641), ('Y', 331), ('K', 169), ('M', 160), ('V', 642), ('W', 168)])\n",
      " \n",
      "Position: 55.0\n",
      "Total number of sequences for position 55.0 : 9890\n",
      "dict_items([('L', 968), ('P', 654), ('S', 803), ('A', 676), ('M', 190), ('G', 625), ('R', 1029), ('W', 162), ('V', 623), ('T', 673), ('N', 328), ('K', 353), ('Q', 341), ('I', 504), ('E', 302), ('Y', 335), ('H', 321), ('D', 344), ('C', 342), ('F', 317)])\n",
      " \n",
      "Position: 78.0\n",
      "Total number of sequences for position 78.0 : 10034\n",
      "dict_items([('H', 312), ('G', 736), ('T', 695), ('W', 180), ('Y', 337), ('C', 312), ('I', 484), ('L', 834), ('R', 1028), ('A', 667), ('S', 968), ('V', 636), ('Q', 361), ('K', 329), ('P', 663), ('M', 165), ('E', 293), ('D', 342), ('N', 344), ('F', 348)])\n",
      " \n"
     ]
    }
   ],
   "source": [
    "# using keys extracted according to position, now grab all the mutated amino acids for that position\n",
    "\n",
    "for x in track:\n",
    "    for key, value in aa_mut_c.items(): #dict of fasta file names/keys with corresponding aa\n",
    "        if key in pos_keys_lists[x]:        #if fasta file name (key) in list corresponding to position key (x)\n",
    "            aa_lists[x].append(aa_mut_c[key]) #grab the values (mutated aa) into list corresponding to position key (x)\n",
    "            \n",
    "            \n",
    "# use Counter to get number of each amino acid for positions\n",
    "for x in track:\n",
    "    aa_pos = Counter(aa_lists[x])\n",
    "    print (\"Position:\", x)\n",
    "    print (\"Total number of sequences for position\", x, \":\", len(aa_lists[x]))\n",
    "    print (aa_pos.items())\n",
    "    print(\" \")"
   ]
  },
  {
   "cell_type": "code",
   "execution_count": 21,
   "metadata": {
    "collapsed": false
   },
   "outputs": [
    {
     "name": "stdout",
     "output_type": "stream",
     "text": [
      "{'F': [2], 'L': [0], 'S': [0], 'Y': [0], 'C': [0], 'W': [0], 'P': [0], 'H': [3], 'Q': [0], 'R': [0], 'I': [0], 'M': [0], 'T': [0], 'N': [0], 'K': [0], 'V': [0], 'A': [1], 'D': [0], 'E': [0], 'G': [0]}\n"
     ]
    }
   ],
   "source": [
    "# function to count amino acids in a list\n",
    "\n",
    "a_list = ['F', 'L', 'S', 'Y', 'C', 'W', 'P', 'H', 'Q', 'R', 'I', 'M', 'T', 'N', 'K', 'V', 'A', 'D', 'E', 'G']\n",
    "\n",
    "\n",
    "def count_aa(aa):\n",
    "    aa_count = {} # generate dictionary with amnio acids as key to keep count of each aa\n",
    "    for i in range(len(a_list)):\n",
    "        aa_count[a_list[i]] = []\n",
    "        \n",
    "    for x in a_list:\n",
    "        count = 0\n",
    "        for y in aa:\n",
    "            if y == x:\n",
    "                count += 1\n",
    "        aa_count[x].append(count)\n",
    "    return aa_count\n",
    "        \n",
    "aa_test = ['F', 'F', 'A', 'H', 'H', 'H']\n",
    "print (count_aa(aa_test))"
   ]
  },
  {
   "cell_type": "code",
   "execution_count": 22,
   "metadata": {
    "collapsed": false
   },
   "outputs": [
    {
     "name": "stdout",
     "output_type": "stream",
     "text": [
      "Amino acid counts at each position:\n",
      "Position 94.0\n",
      "[{'F': [167], 'L': [1005], 'S': [952], 'Y': [317], 'C': [321], 'W': [150], 'P': [660], 'H': [351], 'Q': [289], 'R': [969], 'I': [491], 'M': [181], 'T': [653], 'N': [333], 'K': [327], 'V': [671], 'A': [688], 'D': [314], 'E': [375], 'G': [619]}]\n",
      "Total number of sequences for position 94.0 : 9833\n",
      " \n",
      "Position 28.0\n",
      "[{'F': [153], 'L': [973], 'S': [967], 'Y': [320], 'C': [297], 'W': [163], 'P': [678], 'H': [325], 'Q': [332], 'R': [926], 'I': [498], 'M': [154], 'T': [636], 'N': [348], 'K': [326], 'V': [619], 'A': [679], 'D': [353], 'E': [351], 'G': [711]}]\n",
      "Total number of sequences for position 28.0 : 9809\n",
      " \n",
      "Position 112.0\n",
      "[{'F': [322], 'L': [1004], 'S': [951], 'Y': [343], 'C': [364], 'W': [167], 'P': [605], 'H': [316], 'Q': [289], 'R': [958], 'I': [473], 'M': [196], 'T': [679], 'N': [314], 'K': [323], 'V': [646], 'A': [673], 'D': [154], 'E': [324], 'G': [631]}]\n",
      "Total number of sequences for position 112.0 : 9732\n",
      " \n",
      "Position 79.0\n",
      "[{'F': [307], 'L': [907], 'S': [984], 'Y': [151], 'C': [320], 'W': [143], 'P': [683], 'H': [305], 'Q': [353], 'R': [949], 'I': [491], 'M': [170], 'T': [697], 'N': [306], 'K': [353], 'V': [651], 'A': [699], 'D': [350], 'E': [299], 'G': [633]}]\n",
      "Total number of sequences for position 79.0 : 9751\n",
      " \n",
      "Position 76.0\n",
      "[{'F': [294], 'L': [975], 'S': [968], 'Y': [325], 'C': [327], 'W': [151], 'P': [684], 'H': [326], 'Q': [328], 'R': [985], 'I': [471], 'M': [181], 'T': [671], 'N': [338], 'K': [302], 'V': [729], 'A': [628], 'D': [160], 'E': [343], 'G': [655]}]\n",
      "Total number of sequences for position 76.0 : 9841\n",
      " \n",
      "Position 10.0\n",
      "[{'F': [335], 'L': [941], 'S': [1001], 'Y': [341], 'C': [326], 'W': [154], 'P': [595], 'H': [321], 'Q': [338], 'R': [965], 'I': [494], 'M': [138], 'T': [648], 'N': [321], 'K': [326], 'V': [512], 'A': [643], 'D': [379], 'E': [346], 'G': [618]}]\n",
      "Total number of sequences for position 10.0 : 9742\n",
      " \n",
      "Position 13.0\n",
      "[{'F': [316], 'L': [949], 'S': [959], 'Y': [320], 'C': [324], 'W': [184], 'P': [517], 'H': [336], 'Q': [297], 'R': [945], 'I': [503], 'M': [192], 'T': [625], 'N': [356], 'K': [323], 'V': [681], 'A': [634], 'D': [320], 'E': [340], 'G': [632]}]\n",
      "Total number of sequences for position 13.0 : 9753\n",
      " \n",
      "Position 128.0\n",
      "[{'F': [347], 'L': [1023], 'S': [939], 'Y': [331], 'C': [306], 'W': [168], 'P': [654], 'H': [362], 'Q': [332], 'R': [977], 'I': [541], 'M': [160], 'T': [712], 'N': [340], 'K': [169], 'V': [642], 'A': [654], 'D': [334], 'E': [318], 'G': [641]}]\n",
      "Total number of sequences for position 128.0 : 9950\n",
      " \n",
      "Position 55.0\n",
      "[{'F': [317], 'L': [968], 'S': [803], 'Y': [335], 'C': [342], 'W': [162], 'P': [654], 'H': [321], 'Q': [341], 'R': [1029], 'I': [504], 'M': [190], 'T': [673], 'N': [328], 'K': [353], 'V': [623], 'A': [676], 'D': [344], 'E': [302], 'G': [625]}]\n",
      "Total number of sequences for position 55.0 : 9890\n",
      " \n",
      "Position 78.0\n",
      "[{'F': [348], 'L': [834], 'S': [968], 'Y': [337], 'C': [312], 'W': [180], 'P': [663], 'H': [312], 'Q': [361], 'R': [1028], 'I': [484], 'M': [165], 'T': [695], 'N': [344], 'K': [329], 'V': [636], 'A': [667], 'D': [342], 'E': [293], 'G': [736]}]\n",
      "Total number of sequences for position 78.0 : 10034\n",
      " \n"
     ]
    }
   ],
   "source": [
    "# count the number of amino acids at each position\n",
    "\n",
    "aa_count_c = {} # generate dictionary with positions as key to store lists of amino acid total counts for each position\n",
    "\n",
    "for i in range(len(track)):\n",
    "    aa_count_c[track[i]] = []\n",
    "\n",
    "\n",
    "for x in track:                                #track positions - keys in aa_count_c\n",
    "    for key, value in aa_lists.items():    #dict with positions as keys and list of mutated amino acids at that position\n",
    "        if key == x:\n",
    "            aa_count_c[x].append(count_aa(value)) #count amino acids at position x\n",
    "            \n",
    "print (\"Amino acid counts at each position:\" )           \n",
    "for x in track:\n",
    "    print (\"Position\", x)\n",
    "    print (aa_count_c[x])\n",
    "    print (\"Total number of sequences for position\", x ,\":\", len(aa_lists[x]))\n",
    "    print(\" \")"
   ]
  },
  {
   "cell_type": "code",
   "execution_count": 23,
   "metadata": {
    "collapsed": false
   },
   "outputs": [
    {
     "name": "stdout",
     "output_type": "stream",
     "text": [
      "{'F': ['0.3333'], 'L': ['0.0000'], 'S': ['0.0000'], 'Y': ['0.0000'], 'C': ['0.0000'], 'W': ['0.0000'], 'P': ['0.0000'], 'H': ['0.5000'], 'Q': ['0.0000'], 'R': ['0.0000'], 'I': ['0.0000'], 'M': ['0.0000'], 'T': ['0.0000'], 'N': ['0.0000'], 'K': ['0.0000'], 'V': ['0.0000'], 'A': ['0.1667'], 'D': ['0.0000'], 'E': ['0.0000'], 'G': ['0.0000']}\n"
     ]
    }
   ],
   "source": [
    "# function to get amino acid frequency\n",
    "\n",
    "def freq_aa(aa):\n",
    "    aa_freq = {} # generate dictionary with amnio acids as key to keep count of each aa\n",
    "    for i in range(len(a_list)):\n",
    "        aa_freq[a_list[i]] = []\n",
    "        \n",
    "    for x in a_list:\n",
    "        count = 0.0\n",
    "        for y in aa:\n",
    "            total = len(aa)  #length of the list, that is, total number of mutated amino acids at that position\n",
    "            if y == x:\n",
    "                count += 1.0\n",
    "        aa_freq[x].append(\"%.4f\"%(count/total))\n",
    "    return aa_freq\n",
    "        \n",
    "aa_test = ['F', 'F', 'A', 'H', 'H', 'H']\n",
    "print (freq_aa(aa_test))"
   ]
  },
  {
   "cell_type": "code",
   "execution_count": 25,
   "metadata": {
    "collapsed": false
   },
   "outputs": [
    {
     "name": "stdout",
     "output_type": "stream",
     "text": [
      "Amino acid frequencies at each position:\n",
      "Position 94.0\n",
      "[{'F': ['0.0170'], 'L': ['0.1022'], 'S': ['0.0968'], 'Y': ['0.0322'], 'C': ['0.0326'], 'W': ['0.0153'], 'P': ['0.0671'], 'H': ['0.0357'], 'Q': ['0.0294'], 'R': ['0.0985'], 'I': ['0.0499'], 'M': ['0.0184'], 'T': ['0.0664'], 'N': ['0.0339'], 'K': ['0.0333'], 'V': ['0.0682'], 'A': ['0.0700'], 'D': ['0.0319'], 'E': ['0.0381'], 'G': ['0.0630']}]\n",
      " \n",
      "Position 28.0\n",
      "[{'F': ['0.0156'], 'L': ['0.0992'], 'S': ['0.0986'], 'Y': ['0.0326'], 'C': ['0.0303'], 'W': ['0.0166'], 'P': ['0.0691'], 'H': ['0.0331'], 'Q': ['0.0338'], 'R': ['0.0944'], 'I': ['0.0508'], 'M': ['0.0157'], 'T': ['0.0648'], 'N': ['0.0355'], 'K': ['0.0332'], 'V': ['0.0631'], 'A': ['0.0692'], 'D': ['0.0360'], 'E': ['0.0358'], 'G': ['0.0725']}]\n",
      " \n",
      "Position 112.0\n",
      "[{'F': ['0.0331'], 'L': ['0.1032'], 'S': ['0.0977'], 'Y': ['0.0352'], 'C': ['0.0374'], 'W': ['0.0172'], 'P': ['0.0622'], 'H': ['0.0325'], 'Q': ['0.0297'], 'R': ['0.0984'], 'I': ['0.0486'], 'M': ['0.0201'], 'T': ['0.0698'], 'N': ['0.0323'], 'K': ['0.0332'], 'V': ['0.0664'], 'A': ['0.0692'], 'D': ['0.0158'], 'E': ['0.0333'], 'G': ['0.0648']}]\n",
      " \n",
      "Position 79.0\n",
      "[{'F': ['0.0315'], 'L': ['0.0930'], 'S': ['0.1009'], 'Y': ['0.0155'], 'C': ['0.0328'], 'W': ['0.0147'], 'P': ['0.0700'], 'H': ['0.0313'], 'Q': ['0.0362'], 'R': ['0.0973'], 'I': ['0.0504'], 'M': ['0.0174'], 'T': ['0.0715'], 'N': ['0.0314'], 'K': ['0.0362'], 'V': ['0.0668'], 'A': ['0.0717'], 'D': ['0.0359'], 'E': ['0.0307'], 'G': ['0.0649']}]\n",
      " \n",
      "Position 76.0\n",
      "[{'F': ['0.0299'], 'L': ['0.0991'], 'S': ['0.0984'], 'Y': ['0.0330'], 'C': ['0.0332'], 'W': ['0.0153'], 'P': ['0.0695'], 'H': ['0.0331'], 'Q': ['0.0333'], 'R': ['0.1001'], 'I': ['0.0479'], 'M': ['0.0184'], 'T': ['0.0682'], 'N': ['0.0343'], 'K': ['0.0307'], 'V': ['0.0741'], 'A': ['0.0638'], 'D': ['0.0163'], 'E': ['0.0349'], 'G': ['0.0666']}]\n",
      " \n",
      "Position 10.0\n",
      "[{'F': ['0.0344'], 'L': ['0.0966'], 'S': ['0.1028'], 'Y': ['0.0350'], 'C': ['0.0335'], 'W': ['0.0158'], 'P': ['0.0611'], 'H': ['0.0330'], 'Q': ['0.0347'], 'R': ['0.0991'], 'I': ['0.0507'], 'M': ['0.0142'], 'T': ['0.0665'], 'N': ['0.0330'], 'K': ['0.0335'], 'V': ['0.0526'], 'A': ['0.0660'], 'D': ['0.0389'], 'E': ['0.0355'], 'G': ['0.0634']}]\n",
      " \n",
      "Position 13.0\n",
      "[{'F': ['0.0324'], 'L': ['0.0973'], 'S': ['0.0983'], 'Y': ['0.0328'], 'C': ['0.0332'], 'W': ['0.0189'], 'P': ['0.0530'], 'H': ['0.0345'], 'Q': ['0.0305'], 'R': ['0.0969'], 'I': ['0.0516'], 'M': ['0.0197'], 'T': ['0.0641'], 'N': ['0.0365'], 'K': ['0.0331'], 'V': ['0.0698'], 'A': ['0.0650'], 'D': ['0.0328'], 'E': ['0.0349'], 'G': ['0.0648']}]\n",
      " \n",
      "Position 128.0\n",
      "[{'F': ['0.0349'], 'L': ['0.1028'], 'S': ['0.0944'], 'Y': ['0.0333'], 'C': ['0.0308'], 'W': ['0.0169'], 'P': ['0.0657'], 'H': ['0.0364'], 'Q': ['0.0334'], 'R': ['0.0982'], 'I': ['0.0544'], 'M': ['0.0161'], 'T': ['0.0716'], 'N': ['0.0342'], 'K': ['0.0170'], 'V': ['0.0645'], 'A': ['0.0657'], 'D': ['0.0336'], 'E': ['0.0320'], 'G': ['0.0644']}]\n",
      " \n",
      "Position 55.0\n",
      "[{'F': ['0.0321'], 'L': ['0.0979'], 'S': ['0.0812'], 'Y': ['0.0339'], 'C': ['0.0346'], 'W': ['0.0164'], 'P': ['0.0661'], 'H': ['0.0325'], 'Q': ['0.0345'], 'R': ['0.1040'], 'I': ['0.0510'], 'M': ['0.0192'], 'T': ['0.0680'], 'N': ['0.0332'], 'K': ['0.0357'], 'V': ['0.0630'], 'A': ['0.0684'], 'D': ['0.0348'], 'E': ['0.0305'], 'G': ['0.0632']}]\n",
      " \n",
      "Position 78.0\n",
      "[{'F': ['0.0347'], 'L': ['0.0831'], 'S': ['0.0965'], 'Y': ['0.0336'], 'C': ['0.0311'], 'W': ['0.0179'], 'P': ['0.0661'], 'H': ['0.0311'], 'Q': ['0.0360'], 'R': ['0.1025'], 'I': ['0.0482'], 'M': ['0.0164'], 'T': ['0.0693'], 'N': ['0.0343'], 'K': ['0.0328'], 'V': ['0.0634'], 'A': ['0.0665'], 'D': ['0.0341'], 'E': ['0.0292'], 'G': ['0.0734']}]\n",
      " \n"
     ]
    }
   ],
   "source": [
    "# get the frequency of amino acids at each position for control library - baseline frequencies\n",
    "\n",
    "aa_freq_c = {} # generate dictionary with positions as key to store lists of amino acid total counts for each position\n",
    "\n",
    "for i in range(len(track)):\n",
    "    aa_freq_c[track[i]] = []\n",
    "\n",
    "\n",
    "for x in track:\n",
    "    for key, value in aa_lists.items():\n",
    "        if key == x:\n",
    "            aa_freq_c[x].append(freq_aa(value))\n",
    "            \n",
    "\n",
    "print (\"Amino acid frequencies at each position:\")            \n",
    "for x in track:\n",
    "    print (\"Position\", x)\n",
    "    print (aa_freq_c[x])\n",
    "    print(\" \")"
   ]
  },
  {
   "cell_type": "code",
   "execution_count": 26,
   "metadata": {
    "collapsed": false
   },
   "outputs": [
    {
     "name": "stdout",
     "output_type": "stream",
     "text": [
      "{'F': ['33.3333%'], 'L': [0.0], 'S': [0.0], 'Y': [0.0], 'C': [0.0], 'W': [0.0], 'P': [0.0], 'H': ['50.0000%'], 'Q': [0.0], 'R': [0.0], 'I': [0.0], 'M': [0.0], 'T': [0.0], 'N': [0.0], 'K': [0.0], 'V': [0.0], 'A': ['16.6667%'], 'D': [0.0], 'E': [0.0], 'G': [0.0]}\n"
     ]
    }
   ],
   "source": [
    "def freq_aa100(aa):\n",
    "    aa_freq100 = {} # generate dictionary with amnio acids as key to keep count of each aa\n",
    "    for i in range(len(a_list)):\n",
    "        aa_freq100[a_list[i]] = []\n",
    "        \n",
    "    for x in a_list:\n",
    "        count = 0.0\n",
    "        freq100 = 0.0\n",
    "        for y in aa:\n",
    "            total = len(aa)  #length of the list, that is, total number of mutated amino acids at that position\n",
    "            if y == x:\n",
    "                count += 1.0\n",
    "                freq100 = \"%.4f%%\" % (100 * (count/total))\n",
    "        aa_freq100[x].append(freq100)\n",
    "    return aa_freq100\n",
    "        \n",
    "aa_test = ['F', 'F', 'A', 'H', 'H', 'H']\n",
    "print (freq_aa100(aa_test))"
   ]
  },
  {
   "cell_type": "code",
   "execution_count": 28,
   "metadata": {
    "collapsed": false
   },
   "outputs": [
    {
     "name": "stdout",
     "output_type": "stream",
     "text": [
      "Amino acid frequencies at each position:\n",
      "Position 94.0\n",
      "[{'F': ['1.6984%'], 'L': ['10.2207%'], 'S': ['9.6817%'], 'Y': ['3.2238%'], 'C': ['3.2645%'], 'W': ['1.5255%'], 'P': ['6.7121%'], 'H': ['3.5696%'], 'Q': ['2.9391%'], 'R': ['9.8546%'], 'I': ['4.9934%'], 'M': ['1.8407%'], 'T': ['6.6409%'], 'N': ['3.3866%'], 'K': ['3.3255%'], 'V': ['6.8240%'], 'A': ['6.9968%'], 'D': ['3.1933%'], 'E': ['3.8137%'], 'G': ['6.2951%']}]\n",
      " \n",
      "Position 28.0\n",
      "[{'F': ['1.5598%'], 'L': ['9.9195%'], 'S': ['9.8583%'], 'Y': ['3.2623%'], 'C': ['3.0278%'], 'W': ['1.6617%'], 'P': ['6.9120%'], 'H': ['3.3133%'], 'Q': ['3.3846%'], 'R': ['9.4403%'], 'I': ['5.0770%'], 'M': ['1.5700%'], 'T': ['6.4838%'], 'N': ['3.5478%'], 'K': ['3.3235%'], 'V': ['6.3105%'], 'A': ['6.9222%'], 'D': ['3.5987%'], 'E': ['3.5783%'], 'G': ['7.2484%']}]\n",
      " \n",
      "Position 112.0\n",
      "[{'F': ['3.3087%'], 'L': ['10.3165%'], 'S': ['9.7719%'], 'Y': ['3.5245%'], 'C': ['3.7402%'], 'W': ['1.7160%'], 'P': ['6.2166%'], 'H': ['3.2470%'], 'Q': ['2.9696%'], 'R': ['9.8438%'], 'I': ['4.8603%'], 'M': ['2.0140%'], 'T': ['6.9770%'], 'N': ['3.2265%'], 'K': ['3.3189%'], 'V': ['6.6379%'], 'A': ['6.9153%'], 'D': ['1.5824%'], 'E': ['3.3292%'], 'G': ['6.4838%']}]\n",
      " \n",
      "Position 79.0\n",
      "[{'F': ['3.1484%'], 'L': ['9.3016%'], 'S': ['10.0913%'], 'Y': ['1.5486%'], 'C': ['3.2817%'], 'W': ['1.4665%'], 'P': ['7.0044%'], 'H': ['3.1279%'], 'Q': ['3.6201%'], 'R': ['9.7323%'], 'I': ['5.0354%'], 'M': ['1.7434%'], 'T': ['7.1480%'], 'N': ['3.1381%'], 'K': ['3.6201%'], 'V': ['6.6762%'], 'A': ['7.1685%'], 'D': ['3.5894%'], 'E': ['3.0664%'], 'G': ['6.4916%']}]\n",
      " \n",
      "Position 76.0\n",
      "[{'F': ['2.9875%'], 'L': ['9.9075%'], 'S': ['9.8364%'], 'Y': ['3.3025%'], 'C': ['3.3228%'], 'W': ['1.5344%'], 'P': ['6.9505%'], 'H': ['3.3127%'], 'Q': ['3.3330%'], 'R': ['10.0091%'], 'I': ['4.7861%'], 'M': ['1.8392%'], 'T': ['6.8184%'], 'N': ['3.4346%'], 'K': ['3.0688%'], 'V': ['7.4078%'], 'A': ['6.3815%'], 'D': ['1.6259%'], 'E': ['3.4854%'], 'G': ['6.6558%']}]\n",
      " \n",
      "Position 10.0\n",
      "[{'F': ['3.4387%'], 'L': ['9.6592%'], 'S': ['10.2751%'], 'Y': ['3.5003%'], 'C': ['3.3463%'], 'W': ['1.5808%'], 'P': ['6.1076%'], 'H': ['3.2950%'], 'Q': ['3.4695%'], 'R': ['9.9056%'], 'I': ['5.0708%'], 'M': ['1.4165%'], 'T': ['6.6516%'], 'N': ['3.2950%'], 'K': ['3.3463%'], 'V': ['5.2556%'], 'A': ['6.6003%'], 'D': ['3.8904%'], 'E': ['3.5516%'], 'G': ['6.3437%']}]\n",
      " \n",
      "Position 13.0\n",
      "[{'F': ['3.2400%'], 'L': ['9.7303%'], 'S': ['9.8329%'], 'Y': ['3.2810%'], 'C': ['3.3221%'], 'W': ['1.8866%'], 'P': ['5.3009%'], 'H': ['3.4451%'], 'Q': ['3.0452%'], 'R': ['9.6893%'], 'I': ['5.1574%'], 'M': ['1.9686%'], 'T': ['6.4083%'], 'N': ['3.6502%'], 'K': ['3.3118%'], 'V': ['6.9825%'], 'A': ['6.5006%'], 'D': ['3.2810%'], 'E': ['3.4861%'], 'G': ['6.4801%']}]\n",
      " \n",
      "Position 128.0\n",
      "[{'F': ['3.4874%'], 'L': ['10.2814%'], 'S': ['9.4372%'], 'Y': ['3.3266%'], 'C': ['3.0754%'], 'W': ['1.6884%'], 'P': ['6.5729%'], 'H': ['3.6382%'], 'Q': ['3.3367%'], 'R': ['9.8191%'], 'I': ['5.4372%'], 'M': ['1.6080%'], 'T': ['7.1558%'], 'N': ['3.4171%'], 'K': ['1.6985%'], 'V': ['6.4523%'], 'A': ['6.5729%'], 'D': ['3.3568%'], 'E': ['3.1960%'], 'G': ['6.4422%']}]\n",
      " \n",
      "Position 55.0\n",
      "[{'F': ['3.2053%'], 'L': ['9.7877%'], 'S': ['8.1193%'], 'Y': ['3.3873%'], 'C': ['3.4580%'], 'W': ['1.6380%'], 'P': ['6.6127%'], 'H': ['3.2457%'], 'Q': ['3.4479%'], 'R': ['10.4044%'], 'I': ['5.0961%'], 'M': ['1.9211%'], 'T': ['6.8049%'], 'N': ['3.3165%'], 'K': ['3.5693%'], 'V': ['6.2993%'], 'A': ['6.8352%'], 'D': ['3.4783%'], 'E': ['3.0536%'], 'G': ['6.3195%']}]\n",
      " \n",
      "Position 78.0\n",
      "[{'F': ['3.4682%'], 'L': ['8.3117%'], 'S': ['9.6472%'], 'Y': ['3.3586%'], 'C': ['3.1094%'], 'W': ['1.7939%'], 'P': ['6.6075%'], 'H': ['3.1094%'], 'Q': ['3.5978%'], 'R': ['10.2452%'], 'I': ['4.8236%'], 'M': ['1.6444%'], 'T': ['6.9265%'], 'N': ['3.4283%'], 'K': ['3.2789%'], 'V': ['6.3384%'], 'A': ['6.6474%'], 'D': ['3.4084%'], 'E': ['2.9201%'], 'G': ['7.3351%']}]\n",
      " \n"
     ]
    }
   ],
   "source": [
    "# get the frequency of amino acids at each position for control library - baseline frequencies, as a percentage\n",
    "\n",
    "aa_freq_c100 = {} # generate dictionary with positions as key to store lists of amino acid total counts for each position\n",
    "\n",
    "for i in range(len(track)):\n",
    "    aa_freq_c100[track[i]] = []\n",
    "\n",
    "\n",
    "for x in track:\n",
    "    for key, value in aa_lists.items():\n",
    "        if key == x:\n",
    "            aa_freq_c100[x].append(freq_aa100(value))\n",
    "            \n",
    "\n",
    "print (\"Amino acid frequencies at each position:\")            \n",
    "for x in track:\n",
    "    print (\"Position\", x)\n",
    "    print (aa_freq_c100[x])\n",
    "    print(\" \")"
   ]
  },
  {
   "cell_type": "code",
   "execution_count": null,
   "metadata": {
    "collapsed": true
   },
   "outputs": [],
   "source": []
  }
 ],
 "metadata": {
  "kernelspec": {
   "display_name": "Python 3",
   "language": "python",
   "name": "python3"
  },
  "language_info": {
   "codemirror_mode": {
    "name": "ipython",
    "version": 3
   },
   "file_extension": ".py",
   "mimetype": "text/x-python",
   "name": "python",
   "nbconvert_exporter": "python",
   "pygments_lexer": "ipython3",
   "version": "3.6.0"
  }
 },
 "nbformat": 4,
 "nbformat_minor": 2
}
